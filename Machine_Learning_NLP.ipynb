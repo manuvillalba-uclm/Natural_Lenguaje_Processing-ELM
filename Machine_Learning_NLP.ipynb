{
  "nbformat": 4,
  "nbformat_minor": 0,
  "metadata": {
    "colab": {
      "name": "Machine Learning NLP.ipynb",
      "provenance": [],
      "collapsed_sections": [],
      "include_colab_link": true
    },
    "kernelspec": {
      "name": "python3",
      "display_name": "Python 3"
    }
  },
  "cells": [
    {
      "cell_type": "markdown",
      "metadata": {
        "id": "view-in-github",
        "colab_type": "text"
      },
      "source": [
        "<a href=\"https://colab.research.google.com/github/manuvillalba-uclm/Natural_Lenguaje_Processing-ELM/blob/Preprocessing/Machine_Learning_NLP.ipynb\" target=\"_parent\"><img src=\"https://colab.research.google.com/assets/colab-badge.svg\" alt=\"Open In Colab\"/></a>"
      ]
    },
    {
      "cell_type": "code",
      "metadata": {
        "id": "N3pAGd1xLHmV",
        "colab": {
          "base_uri": "https://localhost:8080/"
        },
        "outputId": "5b81917b-d7f5-4376-decb-845d3e319e21"
      },
      "source": [
        "# dataframes library\n",
        "!pip install pyspellchecker \n",
        "!pip install contractions\n",
        "!pip install nltk --upgrade\n",
        "!pip install emoji\n",
        "\n",
        "import pandas as pd\n",
        "import re\n",
        "import nltk\n",
        "nltk.download(\"popular\")\n",
        "nltk.download('vader_lexicon') #sentiment analysis\n",
        "nltk.download('twython') #twitter not necessary\n",
        "\n",
        "from nltk.tokenize.casual import TweetTokenizer\n",
        "from nltk.tokenize import word_tokenize\n",
        "from nltk.tokenize import sent_tokenize\n",
        "from nltk.corpus import stopwords\n",
        "from nltk.stem import PorterStemmer\n",
        "from nltk.stem import WordNetLemmatizer\n",
        "\n",
        "#Correcciones y emoji\n",
        "import emoji\n",
        "from textblob import TextBlob\n",
        "from spellchecker import SpellChecker\n",
        "import contractions\n",
        "from multiprocessing import Pool"
      ],
      "execution_count": 25,
      "outputs": [
        {
          "output_type": "stream",
          "text": [
            "Requirement already satisfied: pyspellchecker in /usr/local/lib/python3.6/dist-packages (0.5.5)\n",
            "Requirement already satisfied: contractions in /usr/local/lib/python3.6/dist-packages (0.0.25)\n",
            "Requirement already satisfied: textsearch in /usr/local/lib/python3.6/dist-packages (from contractions) (0.0.17)\n",
            "Requirement already satisfied: Unidecode in /usr/local/lib/python3.6/dist-packages (from textsearch->contractions) (1.1.1)\n",
            "Requirement already satisfied: pyahocorasick in /usr/local/lib/python3.6/dist-packages (from textsearch->contractions) (1.4.0)\n",
            "Requirement already up-to-date: nltk in /usr/local/lib/python3.6/dist-packages (3.5)\n",
            "Requirement already satisfied, skipping upgrade: click in /usr/local/lib/python3.6/dist-packages (from nltk) (7.1.2)\n",
            "Requirement already satisfied, skipping upgrade: regex in /usr/local/lib/python3.6/dist-packages (from nltk) (2019.12.20)\n",
            "Requirement already satisfied, skipping upgrade: joblib in /usr/local/lib/python3.6/dist-packages (from nltk) (0.17.0)\n",
            "Requirement already satisfied, skipping upgrade: tqdm in /usr/local/lib/python3.6/dist-packages (from nltk) (4.41.1)\n",
            "Requirement already satisfied: emoji in /usr/local/lib/python3.6/dist-packages (0.6.0)\n"
          ],
          "name": "stdout"
        },
        {
          "output_type": "stream",
          "text": [
            "[nltk_data] Downloading collection 'popular'\n",
            "[nltk_data]    | \n",
            "[nltk_data]    | Downloading package cmudict to /root/nltk_data...\n",
            "[nltk_data]    |   Package cmudict is already up-to-date!\n",
            "[nltk_data]    | Downloading package gazetteers to /root/nltk_data...\n",
            "[nltk_data]    |   Package gazetteers is already up-to-date!\n",
            "[nltk_data]    | Downloading package genesis to /root/nltk_data...\n",
            "[nltk_data]    |   Package genesis is already up-to-date!\n",
            "[nltk_data]    | Downloading package gutenberg to /root/nltk_data...\n",
            "[nltk_data]    |   Package gutenberg is already up-to-date!\n",
            "[nltk_data]    | Downloading package inaugural to /root/nltk_data...\n",
            "[nltk_data]    |   Package inaugural is already up-to-date!\n",
            "[nltk_data]    | Downloading package movie_reviews to\n",
            "[nltk_data]    |     /root/nltk_data...\n",
            "[nltk_data]    |   Package movie_reviews is already up-to-date!\n",
            "[nltk_data]    | Downloading package names to /root/nltk_data...\n",
            "[nltk_data]    |   Package names is already up-to-date!\n",
            "[nltk_data]    | Downloading package shakespeare to /root/nltk_data...\n",
            "[nltk_data]    |   Package shakespeare is already up-to-date!\n",
            "[nltk_data]    | Downloading package stopwords to /root/nltk_data...\n",
            "[nltk_data]    |   Package stopwords is already up-to-date!\n",
            "[nltk_data]    | Downloading package treebank to /root/nltk_data...\n",
            "[nltk_data]    |   Package treebank is already up-to-date!\n",
            "[nltk_data]    | Downloading package twitter_samples to\n",
            "[nltk_data]    |     /root/nltk_data...\n",
            "[nltk_data]    |   Package twitter_samples is already up-to-date!\n",
            "[nltk_data]    | Downloading package omw to /root/nltk_data...\n",
            "[nltk_data]    |   Package omw is already up-to-date!\n",
            "[nltk_data]    | Downloading package wordnet to /root/nltk_data...\n",
            "[nltk_data]    |   Package wordnet is already up-to-date!\n",
            "[nltk_data]    | Downloading package wordnet_ic to /root/nltk_data...\n",
            "[nltk_data]    |   Package wordnet_ic is already up-to-date!\n",
            "[nltk_data]    | Downloading package words to /root/nltk_data...\n",
            "[nltk_data]    |   Package words is already up-to-date!\n",
            "[nltk_data]    | Downloading package maxent_ne_chunker to\n",
            "[nltk_data]    |     /root/nltk_data...\n",
            "[nltk_data]    |   Package maxent_ne_chunker is already up-to-date!\n",
            "[nltk_data]    | Downloading package punkt to /root/nltk_data...\n",
            "[nltk_data]    |   Package punkt is already up-to-date!\n",
            "[nltk_data]    | Downloading package snowball_data to\n",
            "[nltk_data]    |     /root/nltk_data...\n",
            "[nltk_data]    |   Package snowball_data is already up-to-date!\n",
            "[nltk_data]    | Downloading package averaged_perceptron_tagger to\n",
            "[nltk_data]    |     /root/nltk_data...\n",
            "[nltk_data]    |   Package averaged_perceptron_tagger is already up-\n",
            "[nltk_data]    |       to-date!\n",
            "[nltk_data]    | \n",
            "[nltk_data]  Done downloading collection popular\n",
            "[nltk_data] Downloading package vader_lexicon to /root/nltk_data...\n",
            "[nltk_data]   Package vader_lexicon is already up-to-date!\n",
            "[nltk_data] Error loading twython: Package 'twython' not found in\n",
            "[nltk_data]     index\n"
          ],
          "name": "stderr"
        }
      ]
    },
    {
      "cell_type": "code",
      "metadata": {
        "id": "_-ZtJ2_PTpme"
      },
      "source": [
        "english_stops = set(stopwords.words('english'))\n",
        "#spell = SpellChecker()\n",
        "lemmatizer = WordNetLemmatizer()\n",
        "stemmer = PorterStemmer()\n"
      ],
      "execution_count": 28,
      "outputs": []
    },
    {
      "cell_type": "code",
      "metadata": {
        "id": "9FFUw2ucLm1b"
      },
      "source": [
        "raw_dataset_tweets = pd.read_csv('https://raw.githubusercontent.com/manuvillalba-uclm/Natural_Lenguaje_Processing-ELM/main/labeled_data.csv?token=ANLXPWL27WHT4VS5U4LHMVK72D27M', index_col=[0])"
      ],
      "execution_count": 4,
      "outputs": []
    },
    {
      "cell_type": "markdown",
      "metadata": {
        "id": "pVeA5dHlc_zi"
      },
      "source": [
        "# Preprocesing:\n",
        "\n",
        "Mandatory preprocessing steps\n",
        " - Remove unseful data: ! \"_ $% & / ( ) = _ ˆ* ¡@\n",
        " - Remove all capital letters\n",
        " - Correct wrong words: https://norvig.com/spell-correct.html\n",
        " - Lemmatize all terms\n",
        "\n",
        "Optional preprocessing steps:\n",
        " - Remove contractions: don’t -> do not\n",
        " - Remove repeated words: great great show\n",
        " - Replace emoticons, for example,🙂 with “smile”, 😉with “ok”\n"
      ]
    },
    {
      "cell_type": "markdown",
      "metadata": {
        "id": "9yyv-WL_fRlC"
      },
      "source": [
        "We just need index and tweet content for this first part, so we drop Crowdflowers users information from the dataset."
      ]
    },
    {
      "cell_type": "code",
      "metadata": {
        "id": "82Wk7D3Ifafg"
      },
      "source": [
        "dataset_tweets_preprocesing = raw_dataset_tweets.copy()\n",
        "dataset_tweets_preprocesing.drop(\"count\", axis = 1, inplace = True)\n",
        "dataset_tweets_preprocesing.drop(\"hate_speech\", axis = 1, inplace = True)\n",
        "dataset_tweets_preprocesing.drop(\"offensive_language\", axis = 1, inplace = True)\n",
        "dataset_tweets_preprocesing.drop(\"neither\", axis = 1, inplace = True)\n",
        "dataset_tweets_preprocesing.drop(\"class\", axis = 1, inplace = True)"
      ],
      "execution_count": 5,
      "outputs": []
    },
    {
      "cell_type": "code",
      "metadata": {
        "colab": {
          "base_uri": "https://localhost:8080/",
          "height": 424
        },
        "id": "EftodzLJgupS",
        "outputId": "47d1e0a2-b5f3-41ee-aad2-ebf06e2fd3df"
      },
      "source": [
        "dataset_tweets_preprocesing"
      ],
      "execution_count": 6,
      "outputs": [
        {
          "output_type": "execute_result",
          "data": {
            "text/html": [
              "<div>\n",
              "<style scoped>\n",
              "    .dataframe tbody tr th:only-of-type {\n",
              "        vertical-align: middle;\n",
              "    }\n",
              "\n",
              "    .dataframe tbody tr th {\n",
              "        vertical-align: top;\n",
              "    }\n",
              "\n",
              "    .dataframe thead th {\n",
              "        text-align: right;\n",
              "    }\n",
              "</style>\n",
              "<table border=\"1\" class=\"dataframe\">\n",
              "  <thead>\n",
              "    <tr style=\"text-align: right;\">\n",
              "      <th></th>\n",
              "      <th>tweet</th>\n",
              "    </tr>\n",
              "  </thead>\n",
              "  <tbody>\n",
              "    <tr>\n",
              "      <th>0</th>\n",
              "      <td>!!! RT @mayasolovely: As a woman you shouldn't...</td>\n",
              "    </tr>\n",
              "    <tr>\n",
              "      <th>1</th>\n",
              "      <td>!!!!! RT @mleew17: boy dats cold...tyga dwn ba...</td>\n",
              "    </tr>\n",
              "    <tr>\n",
              "      <th>2</th>\n",
              "      <td>!!!!!!! RT @UrKindOfBrand Dawg!!!! RT @80sbaby...</td>\n",
              "    </tr>\n",
              "    <tr>\n",
              "      <th>3</th>\n",
              "      <td>!!!!!!!!! RT @C_G_Anderson: @viva_based she lo...</td>\n",
              "    </tr>\n",
              "    <tr>\n",
              "      <th>4</th>\n",
              "      <td>!!!!!!!!!!!!! RT @ShenikaRoberts: The shit you...</td>\n",
              "    </tr>\n",
              "    <tr>\n",
              "      <th>...</th>\n",
              "      <td>...</td>\n",
              "    </tr>\n",
              "    <tr>\n",
              "      <th>25291</th>\n",
              "      <td>you's a muthaf***in lie &amp;#8220;@LifeAsKing: @2...</td>\n",
              "    </tr>\n",
              "    <tr>\n",
              "      <th>25292</th>\n",
              "      <td>you've gone and broke the wrong heart baby, an...</td>\n",
              "    </tr>\n",
              "    <tr>\n",
              "      <th>25294</th>\n",
              "      <td>young buck wanna eat!!.. dat nigguh like I ain...</td>\n",
              "    </tr>\n",
              "    <tr>\n",
              "      <th>25295</th>\n",
              "      <td>youu got wild bitches tellin you lies</td>\n",
              "    </tr>\n",
              "    <tr>\n",
              "      <th>25296</th>\n",
              "      <td>~~Ruffled | Ntac Eileen Dahlia - Beautiful col...</td>\n",
              "    </tr>\n",
              "  </tbody>\n",
              "</table>\n",
              "<p>24783 rows × 1 columns</p>\n",
              "</div>"
            ],
            "text/plain": [
              "                                                   tweet\n",
              "0      !!! RT @mayasolovely: As a woman you shouldn't...\n",
              "1      !!!!! RT @mleew17: boy dats cold...tyga dwn ba...\n",
              "2      !!!!!!! RT @UrKindOfBrand Dawg!!!! RT @80sbaby...\n",
              "3      !!!!!!!!! RT @C_G_Anderson: @viva_based she lo...\n",
              "4      !!!!!!!!!!!!! RT @ShenikaRoberts: The shit you...\n",
              "...                                                  ...\n",
              "25291  you's a muthaf***in lie &#8220;@LifeAsKing: @2...\n",
              "25292  you've gone and broke the wrong heart baby, an...\n",
              "25294  young buck wanna eat!!.. dat nigguh like I ain...\n",
              "25295              youu got wild bitches tellin you lies\n",
              "25296  ~~Ruffled | Ntac Eileen Dahlia - Beautiful col...\n",
              "\n",
              "[24783 rows x 1 columns]"
            ]
          },
          "metadata": {
            "tags": []
          },
          "execution_count": 6
        }
      ]
    },
    {
      "cell_type": "markdown",
      "metadata": {
        "id": "ESxIG_goicoH"
      },
      "source": [
        "Seleccionamos sólo unos pocos para trabajar al principio más fácilmente"
      ]
    },
    {
      "cell_type": "code",
      "metadata": {
        "id": "EH38KuB2hrer"
      },
      "source": [
        "#@title Texto de título predeterminado\n",
        "num_tweets = 1000 #@param {type:\"slider\", min:20, max:1000, step:10}\n",
        "\n",
        "examples_preprocesing = dataset_tweets_preprocesing.iloc[0:num_tweets,0]\n",
        "lista_tweets = []\n"
      ],
      "execution_count": 18,
      "outputs": []
    },
    {
      "cell_type": "markdown",
      "metadata": {
        "id": "vYoIEBN9I3y3"
      },
      "source": [
        "### Definimos las funciones que procesarán los tweets\n"
      ]
    },
    {
      "cell_type": "markdown",
      "metadata": {
        "id": "4lumqA7Tsmiy"
      },
      "source": [
        "### Opcion 1"
      ]
    },
    {
      "cell_type": "code",
      "metadata": {
        "id": "JNH6Bnc87p7u"
      },
      "source": [
        "def stopwords(text):\n",
        "    return \" \".join([word for word in str(text).split() if word not in english_stops])\n",
        "\n",
        "def remove_urls(text):\n",
        "    url_pattern = re.compile(r'https?://\\S+|www\\.\\S+')\n",
        "    return url_pattern.sub(r'', text)\n",
        "\n",
        "def demojizar(arr):\n",
        "    text_arr = []\n",
        "    for token in arr:\n",
        "      text_arr.append(emoji.demojize(token, delimiters=(\"\", \"\")))\n",
        "    return text_arr\n",
        "\n",
        "def textConditions(token):\n",
        "  if re.match(\"[`!\\\"_$%&/()=_ˆ*¡,@:.]+\",token): #Signos de puntuacion\n",
        "    return False\n",
        "  if re.match(\"[-><~]+\",token): #Signos de puntuacion\n",
        "    return False\n",
        "  if re.match(\"[^\\u0000-\\u007F]+\",token): #Unicodes\n",
        "    return False\n",
        "  return True\n",
        "\n",
        "def processArray(arr):\n",
        "  text_arr = []\n",
        "  for token in arr:\n",
        "    if textConditions(token):\n",
        "      token = stemmer.stem(token)\n",
        "      token = lemmatizer.lemmatize(token) # < ---- LEMMA\n",
        "      text_arr.append(token)\n",
        "  # try: #Aqui iria el tagger de palabras, pero solo me lo hace para letras (ERROR)\n",
        "  #   arr_tags = nltk.pos_tag(text_arr)\n",
        "  # except:\n",
        "  #   arr_tags = text_arr\n",
        "  return text_arr"
      ],
      "execution_count": 56,
      "outputs": []
    },
    {
      "cell_type": "code",
      "metadata": {
        "colab": {
          "base_uri": "https://localhost:8080/"
        },
        "id": "IYkHFwcA7UuA",
        "outputId": "2771a455-8a06-44ce-a65a-55853c7ba744"
      },
      "source": [
        "%%time\n",
        "# DATAFRAME ALTERNATIVO PARA UNA PRUEBA (A VER SI EL PANDAS PROCESA MAS RAPIDO EN COLAB)\n",
        "ds_alt_twitter = dataset_tweets_preprocesing.copy()\n",
        "ds_alt_twitter = ds_alt_twitter['tweet'].iloc[0:1000]\n",
        "ds_alt_twitter = ds_alt_twitter.str.lower() #A minusc\n",
        "ds_alt_twitter = ds_alt_twitter.apply(contractions.fix) #Arreglar contracciones\n",
        "ds_alt_twitter = ds_alt_twitter.apply(contractions.fix) #Plural a singular\n",
        "\n",
        "ds_alt_twitter = ds_alt_twitter.str.replace('(?<=^|(?<=[^a-zA-Z0-9-_\\.]))@([A-Za-z0-9_]+[A-Za-z0-9-_]+)','') #Remover usuario\n",
        "ds_alt_twitter = ds_alt_twitter.str.replace('rt','') #Remover rt\n",
        "\n",
        "ds_alt_twitter = ds_alt_twitter.apply(stopwords) #Quitar Stopwords\n",
        "ds_alt_twitter = ds_alt_twitter.apply(remove_urls) #Quitar url\n",
        "\n",
        "#ds_alt_twitter = ds_alt_twitter.apply(lambda x: str(TextBlob(x).correct())) # Spell, LO QUE MAS TIEMPO CONSUME\n",
        "ds_alt_twitter = ds_alt_twitter.apply(TweetTokenizer().tokenize) #Tokenizar\n",
        "ds_alt_twitter = ds_alt_twitter.apply(demojizar) #Traducir emoji a texto\n",
        "ds_alt_twitter = ds_alt_twitter.apply(processArray) #Traducir emoji a texto\n",
        "\n"
      ],
      "execution_count": 57,
      "outputs": [
        {
          "output_type": "stream",
          "text": [
            "CPU times: user 619 ms, sys: 916 µs, total: 619 ms\n",
            "Wall time: 620 ms\n"
          ],
          "name": "stdout"
        }
      ]
    },
    {
      "cell_type": "code",
      "metadata": {
        "colab": {
          "base_uri": "https://localhost:8080/"
        },
        "id": "86fHnJfcD4uL",
        "outputId": "d38a0373-49c4-4bda-907a-c264d7d02904"
      },
      "source": [
        "print(ds_alt_twitter.head(100).to_markdown())\n",
        "#len(ds_alt_twitter)"
      ],
      "execution_count": 58,
      "outputs": [
        {
          "output_type": "stream",
          "text": [
            "|     | tweet                                                                                                                                                                                                                           |\n",
            "|----:|:--------------------------------------------------------------------------------------------------------------------------------------------------------------------------------------------------------------------------------|\n",
            "|   0 | ['woman', 'complain', 'clean', 'hous', 'man', 'alway', 'take', 'trash', 'out']                                                                                                                                                  |\n",
            "|   1 | ['boy', 'dat', 'cold', 'tyga', 'dwn', 'bad', 'cuffin', 'dat', 'hoe', '1st', 'place']                                                                                                                                            |\n",
            "|   2 | ['dawg', 'ever', 'fuck', 'bitch', 'sta', 'cri', '?', 'confus', 'shit']                                                                                                                                                          |\n",
            "|   3 | ['look', 'like', 'tranni']                                                                                                                                                                                                      |\n",
            "|   4 | ['shit', 'hear', 'might', 'true', 'might', 'faker', 'bitch', 'told', 'ya']                                                                                                                                                      |\n",
            "|   5 | ['shit', 'blow', 'me', 'claim', 'faith', 'somebodi', 'still', 'fuck', 'hoe', 'face_with_tears_of_joy', 'face_with_tears_of_joy', 'face_with_tears_of_joy']                                                                      |\n",
            "|   6 | ['sit', 'hate', 'anoth', 'bitch', 'got', 'much', 'shit', 'go', 'on']                                                                                                                                                            |\n",
            "|   7 | ['I', 'tire', 'big', 'bitch', 'come', 'u', 'skinni', 'girl']                                                                                                                                                                    |\n",
            "|   8 | ['might', 'get', 'ya', 'bitch', 'back']                                                                                                                                                                                         |\n",
            "|   9 | ['hobbi', 'includ', 'fight', 'mariam', 'bitch']                                                                                                                                                                                 |\n",
            "|  10 | ['keek', 'bitch', 'curv', 'everyon', 'lol', 'walk', 'convers', 'like', 'thi', 'smh']                                                                                                                                            |\n",
            "|  11 | ['murda', 'gang', 'bitch', 'gang', 'land']                                                                                                                                                                                      |\n",
            "|  12 | ['hoe', 'smoke', 'loser', '?', 'yea', 'go', 'ig']                                                                                                                                                                               |\n",
            "|  13 | ['bad', 'bitch', 'thing', 'like']                                                                                                                                                                                               |\n",
            "|  14 | ['bitch', 'get']                                                                                                                                                                                                                |\n",
            "|  15 | ['bitch', 'nigga', 'miss']                                                                                                                                                                                                      |\n",
            "|  16 | ['bitch', 'plz', 'whatev']                                                                                                                                                                                                      |\n",
            "|  17 | ['bitch', 'love']                                                                                                                                                                                                               |\n",
            "|  18 | ['bitch', 'get', 'cut', 'everyday', 'b']                                                                                                                                                                                        |\n",
            "|  19 | ['black', 'bottl', 'bad', 'bitch']                                                                                                                                                                                              |\n",
            "|  20 | ['broke', 'bitch', 'tell', 'noth']                                                                                                                                                                                              |\n",
            "|  21 | ['cancel', 'bitch', 'like', 'nino']                                                                                                                                                                                             |\n",
            "|  22 | ['see', 'hoe', 'chang']                                                                                                                                                                                                         |\n",
            "|  23 | ['fuck', 'bitch', 'even', 'suck', 'dick', 'face_with_tears_of_joy', 'face_with_tears_of_joy', 'face_with_tears_of_joy', 'kermit', 'video', 'bout', 'fuck', 'ig']                                                                |\n",
            "|  24 | ['got', 'ya', 'bitch', 'tip', 'toe', 'hardwood', 'floor', 'face_with_tears_of_joy']                                                                                                                                             |\n",
            "|  25 | ['pussi', 'lip', 'like', 'heaven', 'door', 'relieved_fac']                                                                                                                                                                      |\n",
            "|  26 | ['hoe', 'hit']                                                                                                                                                                                                                  |\n",
            "|  27 | ['met', 'pussi', 'ocean', 'dr', 'gave', 'pussi', 'pill', 'relieved_fac']                                                                                                                                                        |\n",
            "|  28 | ['need', 'trippi', 'bitch', 'fuck', 'hennessi']                                                                                                                                                                                 |\n",
            "|  29 | ['spend', 'money', 'want', 'bitch', 'busi']                                                                                                                                                                                     |\n",
            "|  30 | ['txt', 'old', 'bitch', 'new', 'bitch', 'pussi', 'wetter']                                                                                                                                                                      |\n",
            "|  31 | ['I', 'would', 'say', 'I', 'back', 'old', 'old', 'bitch', 'would', 'get', 'excit', 'relieved_fac']                                                                                                                              |\n",
            "|  32 | ['bout', 'murder', 'game', 'pussi', 'nigga', 'shut']                                                                                                                                                                            |\n",
            "|  33 | ['toe', 'done', 'pussi', 'stink']                                                                                                                                                                                               |\n",
            "|  34 | ['I', 'done', 'bitter', 'bitch', 'wrap', 'angri', 'bird', 'app']                                                                                                                                                                |\n",
            "|  35 | ['ya', 'bitch']                                                                                                                                                                                                                 |\n",
            "|  36 | ['noth', 'cut', 'bitch']                                                                                                                                                                                                        |\n",
            "|  37 | ['ju', 'meet', 'son', 'ya', 'mane', 'as', 'bitch', '#shot']                                                                                                                                                                     |\n",
            "|  38 | ['lame', 'cri', 'hoe', 'tear', 'clown']                                                                                                                                                                                         |\n",
            "|  39 | ['like', 'snoop', 'said', '94', 'love', 'hoe']                                                                                                                                                                                  |\n",
            "|  40 | ['momma', 'said', 'pussi', 'cat', 'insid', 'doghous']                                                                                                                                                                           |\n",
            "|  41 | ['hate', 'hoe', 'favorit', '#2mw', '#sevenon', '#']                                                                                                                                                                             |\n",
            "|  42 | ['nice', 'girl', 'bad', 'make', 'get', 'naughti', 'bad', 'yello', 'hoe', 'real', 'nice', 'bodi', 'south', 'chick', 'like', 'em', 'real', 'thick']                                                                               |\n",
            "|  43 | ['pimp', 'pimp', 'hoe', 'futur', 'voic']                                                                                                                                                                                        |\n",
            "|  44 | ['post', 'pictur', 'pussi', 'get', '200', 'like']                                                                                                                                                                               |\n",
            "|  45 | ['pussi', 'power', 'drug', 'grinning_face_with_sweat', '#happyhumpday']                                                                                                                                                         |\n",
            "|  46 | ['quick', 'piec', 'pussi', 'call', 'drive']                                                                                                                                                                                     |\n",
            "|  47 | ['run', 'round', 'like', 'brand', 'new', 'pussi', 'bout', 'get', 'fuck']                                                                                                                                                        |\n",
            "|  48 | ['bitch', 'even', 'worst', 'send', 'guy']                                                                                                                                                                                       |\n",
            "|  49 | ['hoe', 'like', 'nigga', 'spend', 'money', 'talk', 'bout']                                                                                                                                                                      |\n",
            "|  50 | ['trust', 'nigga', 'bitch']                                                                                                                                                                                                     |\n",
            "|  51 | ['nigga', 'b', 'cuf', 'hoe', 'never', 'bitch']                                                                                                                                                                                  |\n",
            "|  52 | ['dodg', 'bullet', 'grinning_face_with_sweat', 'all', 'da', 'bitch', 'cut', 'pregnant', 'bound', 'thank', 'god', 'folded_hand']                                                                                                 |\n",
            "|  53 | ['young', 'pill', 'chamberlain', 'bitch', 'love', 'music']                                                                                                                                                                      |\n",
            "|  54 | ['face_with_tears_of_joy', 'face_with_tears_of_joy', 'face_with_tears_of_joy', 'teanna', 'trump', 'probabl', 'cleaner', 'twitter', 'hoe', 'but']                                                                                |\n",
            "|  55 | ['face_with_tears_of_joy', 'face_with_tears_of_joy', 'face_with_tears_of_joy', 'gay', 'nigga', 'could', 'wait', 'act', 'like', 'bitch', 'tonight']                                                                              |\n",
            "|  56 | ['face_with_tears_of_joy', 'face_with_tears_of_joy', 'face_with_tears_of_joy', 'I', 'go', 'steal', 'cat', 'n', 'replac', 'pitbul', 'face_with_tears_of_joy', 'face_with_tears_of_joy', 'face_with_tears_of_joy', 'bitch', 'it'] |\n",
            "|  57 | ['gone', 'alway', 'hoe']                                                                                                                                                                                                        |\n",
            "|  58 | ['son', 'bitch', 'took', 'tic', 'tac', 'like', 'movi']                                                                                                                                                                          |\n",
            "|  59 | ['all', 'want', 'get', 'money', 'fuck', 'model', 'bitch', 'russel', 'simmon']                                                                                                                                                   |\n",
            "|  60 | ['probabl', 'wouldn', 't', 'mind', 'school', 'much', 'didn', 't', 'deal', 'bitch', 'as', 'teacher', 'retweet']                                                                                                                  |\n",
            "|  61 | ['I', 'fuck', 'fag', 'said']                                                                                                                                                                                                    |\n",
            "|  62 | ['femal', 'think', 'date', 'pussi', 'cute', 'now', '?', 'stuff', 'make', 'pussi', '?']                                                                                                                                          |\n",
            "|  63 | ['simplyaddictedtoguy', 'woof', 'woof', 'hot', 'scalli', 'lad']                                                                                                                                                                 |\n",
            "|  64 | ['ya', 'ever', 'ask', 'bitch', 'bitch', 'kany', 'voic', 'ye']                                                                                                                                                                   |\n",
            "|  65 | ['gone', 'bring', 'ur', 'side', 'bitch', 'game', 'know', 'ya', 'gf', 'friend', '?', 'weary_fac', 'weary_fac', 'weary_fac', 'swear']                                                                                             |\n",
            "|  66 | ['woof', 'woof', 'hot', 'sole']                                                                                                                                                                                                 |\n",
            "|  67 | ['lemmi', 'eat', 'oreo', 'dish', 'one', 'oreo', '?', 'lol']                                                                                                                                                                     |\n",
            "|  68 | ['bitch', 'fuck', 'mayb', 'get', 'better']                                                                                                                                                                                      |\n",
            "|  69 | ['fuck', 'red', 'malon', 'man', 'bitch', 'as', 'niggah', 'could', 'plea', 'use', 'complet', 'sentenc', '?']                                                                                                                     |\n",
            "|  70 | ['eggplant', 'emoji', 'doe', '?', 'y', 'say', 'look', 'like', 'scream', 'lmao']                                                                                                                                                 |\n",
            "|  71 | ['hennessey', 'venom', 'gt', 'see-no-evil_monkey', 'one', 'sexi', 'bitch']                                                                                                                                                      |\n",
            "|  72 | ['seh', 'pussi', 'wetter', 'shower', 'cuain', '#ahmesehwet', 'lmao']                                                                                                                                                            |\n",
            "|  73 | ['#eaglesn', 'everi', '#eagl', 'need', 'see', 'pic', 'post', 'bitch', 'said', 'racist', 'shit']                                                                                                                                 |\n",
            "|  74 | ['yo', 'fuck', 'skateboard', 'wood', 'push', 'faggot', 'man', 'ball', 'life']                                                                                                                                                   |\n",
            "|  75 | ['babi', 'monkey', 'bathtim', 'awwww', 'soooo', 'ador']                                                                                                                                                                         |\n",
            "|  76 | ['face_with_tears_of_joy', 'face_with_tears_of_joy', 'face_with_tears_of_joy', 'shit', 'damn', 'skippi', 'lol']                                                                                                                 |\n",
            "|  77 | ['ever', 'kill', 'ant', 'sidewalk', 'think', 'damn', 'nigga', 'way', 'get', 'pussi', 'no', 'b', 'must', 'b', '30', 'chanc']                                                                                                     |\n",
            "|  78 | ['0', 'ring', '0', 'mvp', '0', 'bitch', 'lol']                                                                                                                                                                                  |\n",
            "|  79 | ['ppl', 'talk', 'bad', 'ghetto', 'hood', 'kid', 'grow', 'up', 'nigga', 'funnnnnnn']                                                                                                                                             |\n",
            "|  80 | ['fact', 'tattoo', 'tattoo', 'pussi', 'tattoo', 'nippl']                                                                                                                                                                        |\n",
            "|  81 | ['hundred_point', 'hundred_point', 'hundred_point', 'bitch', 'want', 'act', 'like', 'nigga', 'bad', 'weary_fac', 'weary_fac', 'weary_fac', 'shit', 'cuteeee', 'nigga', 'act', 'like', 'bitch']                                  |\n",
            "|  82 | ['get', 'worship', 'bitch', 'woof', 'woof']                                                                                                                                                                                     |\n",
            "|  83 | ['wow', 'I', 'lost', 'buttcheek', 'pierc', '?', 'yeah', 'hoe']                                                                                                                                                                  |\n",
            "|  84 | ['ok', 'si', 'would', 'rather', 'broke', 'bitch', '?', 'shrug', 'tell', 'work']                                                                                                                                                 |\n",
            "|  85 | ['queer', 'gaywad']                                                                                                                                                                                                             |\n",
            "|  87 | ['faggot', 'read', 'tweet', 'dat', 'k', 'even', 'funni', 'lol']                                                                                                                                                                 |\n",
            "|  88 | ['bitch', 'ungrat', 'fr', 'lulwhor']                                                                                                                                                                                            |\n",
            "|  89 | ['kidnap', 'yo', 'bitch']                                                                                                                                                                                                       |\n",
            "|  90 | ['alsarabsss', 'he', 'beaner', 'smh', 'tell', 'he', 'mexican']                                                                                                                                                                  |\n",
            "|  91 | ['happi', 'bihday', 'nig', 'thank', 'yo']                                                                                                                                                                                       |\n",
            "|  92 | ['ur', 'teacher', 'tell', 'homework', 'bitch', 'need', 'go']                                                                                                                                                                    |\n",
            "|  93 | ['nigga', 'eat', 'hoe', 'lol', 'hell', 'yea', 'lol', 'john', 'paul', 'nigga', 'said', 'john', 'paul']                                                                                                                           |\n",
            "|  94 | ['would', 'lil', 'ugli', 'bald', 'head', 'bitch', 'stop', 'make', 'make-up', 'weav', '?']                                                                                                                                       |\n",
            "|  95 | ['leaf', 'better', 'win', 'damn', 'game', 'go', 'riot', 'shit', '#earlychristma', 'better', 'sta', 'loot', 'nig']                                                                                                               |\n",
            "|  96 | ['go', 'back', 'school', 'suck', 'dick', 'hoe', 'attend', 'it']                                                                                                                                                                 |\n",
            "|  97 | ['way', 'fuck', 'yo', 'bitch', '9', 'year', 'old']                                                                                                                                                                              |\n",
            "|  98 | ['come', 'never', 'bring', 'food', 'car', 'retard']                                                                                                                                                                             |\n",
            "|  99 | ['richnow', 'show', 'hella', 'tinder', 'hoe', 'I', 'friend', 'anymor', 'chill', 'brought', 'like', 'like', '8', 'propl']                                                                                                        |\n",
            "| 100 | ['bout', 'cowboy', 'shutup', 'pussi']                                                                                                                                                                                           |\n"
          ],
          "name": "stdout"
        }
      ]
    },
    {
      "cell_type": "markdown",
      "metadata": {
        "id": "9aXUm-i5BuFM"
      },
      "source": [
        "### Opcion 2"
      ]
    },
    {
      "cell_type": "code",
      "metadata": {
        "id": "Pgz72WHK0-t_"
      },
      "source": [
        "def passConditions(token):\n",
        "  if re.match(\"(?<=^|(?<=[^a-zA-Z0-9-_\\.]))@([A-Za-z0-9]+[A-Za-z0-9-_]+)\", token):\n",
        "    return False\n",
        "  if token in english_stops:\n",
        "    return False\n",
        "  if re.match(\"[`!\\\"_$%&/()=_ˆ*¡@:]+\",token):\n",
        "    return False\n",
        "  if token == 'rt':\n",
        "    return False\n",
        "  return True"
      ],
      "execution_count": 11,
      "outputs": []
    },
    {
      "cell_type": "code",
      "metadata": {
        "id": "97hz-JwWJAa8"
      },
      "source": [
        "def procesarTweet(tweet):\n",
        "  tokens = TweetTokenizer().tokenize(tweet)\n",
        "  clean_tokens = []\n",
        "  for token in tokens:\n",
        "    #No english stop words\n",
        "    if passConditions(token):\n",
        "\n",
        "      #We have to translate emoji to text \n",
        "      token = emoji.demojize(token, delimiters=(\"\", \"\"))\n",
        "\n",
        "      #If the word contains these special symbols, we eliminate them but we maintain the rest.\n",
        "      token = re.sub(\"[`!\\\"_$%&/()=_ˆ*¡@]\", \"\", token)\n",
        "\n",
        "      #Spelling corrections\n",
        "      token = spell.correction(token)\n",
        "      \n",
        "      #Extractlemmatization\n",
        "      token = lemmatizer.lemmatize(token)\n",
        "      \n",
        "      #Remove all capital letters\n",
        "      token = token.lower()\n",
        "      clean_tokens.append(token)\n",
        "  return clean_tokens\n",
        "    \n"
      ],
      "execution_count": 12,
      "outputs": []
    },
    {
      "cell_type": "code",
      "metadata": {
        "colab": {
          "base_uri": "https://localhost:8080/",
          "height": 692
        },
        "id": "xroasetGJpSG",
        "outputId": "0a0b65d4-9f2b-470d-a44a-6e3184e4318f"
      },
      "source": [
        "%%time\n",
        "with Pool(8) as p:\n",
        "    lista_tweets = p.map(procesarTweet, examples_preprocesing)\n"
      ],
      "execution_count": 13,
      "outputs": [
        {
          "output_type": "error",
          "ename": "NameError",
          "evalue": "ignored",
          "traceback": [
            "\u001b[0;31m---------------------------------------------------------------------------\u001b[0m",
            "\u001b[0;31mRemoteTraceback\u001b[0m                           Traceback (most recent call last)",
            "\u001b[0;31mRemoteTraceback\u001b[0m: \n\"\"\"\nTraceback (most recent call last):\n  File \"/usr/lib/python3.6/multiprocessing/pool.py\", line 119, in worker\n    result = (True, func(*args, **kwds))\n  File \"/usr/lib/python3.6/multiprocessing/pool.py\", line 44, in mapstar\n    return list(map(*args))\n  File \"<ipython-input-12-b0f405d8963e>\", line 15, in procesarTweet\n    token = spell.correction(token)\nNameError: name 'spell' is not defined\n\"\"\"",
            "\nThe above exception was the direct cause of the following exception:\n",
            "\u001b[0;31mNameError\u001b[0m                                 Traceback (most recent call last)",
            "\u001b[0;32m<ipython-input-13-d644be75a72f>\u001b[0m in \u001b[0;36m<module>\u001b[0;34m()\u001b[0m\n\u001b[0;32m----> 1\u001b[0;31m \u001b[0mget_ipython\u001b[0m\u001b[0;34m(\u001b[0m\u001b[0;34m)\u001b[0m\u001b[0;34m.\u001b[0m\u001b[0mrun_cell_magic\u001b[0m\u001b[0;34m(\u001b[0m\u001b[0;34m'time'\u001b[0m\u001b[0;34m,\u001b[0m \u001b[0;34m''\u001b[0m\u001b[0;34m,\u001b[0m \u001b[0;34m'with Pool(8) as p:\\n    lista_tweets = p.map(procesarTweet, examples_preprocesing)'\u001b[0m\u001b[0;34m)\u001b[0m\u001b[0;34m\u001b[0m\u001b[0;34m\u001b[0m\u001b[0m\n\u001b[0m",
            "\u001b[0;32m/usr/local/lib/python3.6/dist-packages/IPython/core/interactiveshell.py\u001b[0m in \u001b[0;36mrun_cell_magic\u001b[0;34m(self, magic_name, line, cell)\u001b[0m\n\u001b[1;32m   2115\u001b[0m             \u001b[0mmagic_arg_s\u001b[0m \u001b[0;34m=\u001b[0m \u001b[0mself\u001b[0m\u001b[0;34m.\u001b[0m\u001b[0mvar_expand\u001b[0m\u001b[0;34m(\u001b[0m\u001b[0mline\u001b[0m\u001b[0;34m,\u001b[0m \u001b[0mstack_depth\u001b[0m\u001b[0;34m)\u001b[0m\u001b[0;34m\u001b[0m\u001b[0;34m\u001b[0m\u001b[0m\n\u001b[1;32m   2116\u001b[0m             \u001b[0;32mwith\u001b[0m \u001b[0mself\u001b[0m\u001b[0;34m.\u001b[0m\u001b[0mbuiltin_trap\u001b[0m\u001b[0;34m:\u001b[0m\u001b[0;34m\u001b[0m\u001b[0;34m\u001b[0m\u001b[0m\n\u001b[0;32m-> 2117\u001b[0;31m                 \u001b[0mresult\u001b[0m \u001b[0;34m=\u001b[0m \u001b[0mfn\u001b[0m\u001b[0;34m(\u001b[0m\u001b[0mmagic_arg_s\u001b[0m\u001b[0;34m,\u001b[0m \u001b[0mcell\u001b[0m\u001b[0;34m)\u001b[0m\u001b[0;34m\u001b[0m\u001b[0;34m\u001b[0m\u001b[0m\n\u001b[0m\u001b[1;32m   2118\u001b[0m             \u001b[0;32mreturn\u001b[0m \u001b[0mresult\u001b[0m\u001b[0;34m\u001b[0m\u001b[0;34m\u001b[0m\u001b[0m\n\u001b[1;32m   2119\u001b[0m \u001b[0;34m\u001b[0m\u001b[0m\n",
            "\u001b[0;32m<decorator-gen-60>\u001b[0m in \u001b[0;36mtime\u001b[0;34m(self, line, cell, local_ns)\u001b[0m\n",
            "\u001b[0;32m/usr/local/lib/python3.6/dist-packages/IPython/core/magic.py\u001b[0m in \u001b[0;36m<lambda>\u001b[0;34m(f, *a, **k)\u001b[0m\n\u001b[1;32m    186\u001b[0m     \u001b[0;31m# but it's overkill for just that one bit of state.\u001b[0m\u001b[0;34m\u001b[0m\u001b[0;34m\u001b[0m\u001b[0;34m\u001b[0m\u001b[0m\n\u001b[1;32m    187\u001b[0m     \u001b[0;32mdef\u001b[0m \u001b[0mmagic_deco\u001b[0m\u001b[0;34m(\u001b[0m\u001b[0marg\u001b[0m\u001b[0;34m)\u001b[0m\u001b[0;34m:\u001b[0m\u001b[0;34m\u001b[0m\u001b[0;34m\u001b[0m\u001b[0m\n\u001b[0;32m--> 188\u001b[0;31m         \u001b[0mcall\u001b[0m \u001b[0;34m=\u001b[0m \u001b[0;32mlambda\u001b[0m \u001b[0mf\u001b[0m\u001b[0;34m,\u001b[0m \u001b[0;34m*\u001b[0m\u001b[0ma\u001b[0m\u001b[0;34m,\u001b[0m \u001b[0;34m**\u001b[0m\u001b[0mk\u001b[0m\u001b[0;34m:\u001b[0m \u001b[0mf\u001b[0m\u001b[0;34m(\u001b[0m\u001b[0;34m*\u001b[0m\u001b[0ma\u001b[0m\u001b[0;34m,\u001b[0m \u001b[0;34m**\u001b[0m\u001b[0mk\u001b[0m\u001b[0;34m)\u001b[0m\u001b[0;34m\u001b[0m\u001b[0;34m\u001b[0m\u001b[0m\n\u001b[0m\u001b[1;32m    189\u001b[0m \u001b[0;34m\u001b[0m\u001b[0m\n\u001b[1;32m    190\u001b[0m         \u001b[0;32mif\u001b[0m \u001b[0mcallable\u001b[0m\u001b[0;34m(\u001b[0m\u001b[0marg\u001b[0m\u001b[0;34m)\u001b[0m\u001b[0;34m:\u001b[0m\u001b[0;34m\u001b[0m\u001b[0;34m\u001b[0m\u001b[0m\n",
            "\u001b[0;32m/usr/local/lib/python3.6/dist-packages/IPython/core/magics/execution.py\u001b[0m in \u001b[0;36mtime\u001b[0;34m(self, line, cell, local_ns)\u001b[0m\n\u001b[1;32m   1191\u001b[0m         \u001b[0;32melse\u001b[0m\u001b[0;34m:\u001b[0m\u001b[0;34m\u001b[0m\u001b[0;34m\u001b[0m\u001b[0m\n\u001b[1;32m   1192\u001b[0m             \u001b[0mst\u001b[0m \u001b[0;34m=\u001b[0m \u001b[0mclock2\u001b[0m\u001b[0;34m(\u001b[0m\u001b[0;34m)\u001b[0m\u001b[0;34m\u001b[0m\u001b[0;34m\u001b[0m\u001b[0m\n\u001b[0;32m-> 1193\u001b[0;31m             \u001b[0mexec\u001b[0m\u001b[0;34m(\u001b[0m\u001b[0mcode\u001b[0m\u001b[0;34m,\u001b[0m \u001b[0mglob\u001b[0m\u001b[0;34m,\u001b[0m \u001b[0mlocal_ns\u001b[0m\u001b[0;34m)\u001b[0m\u001b[0;34m\u001b[0m\u001b[0;34m\u001b[0m\u001b[0m\n\u001b[0m\u001b[1;32m   1194\u001b[0m             \u001b[0mend\u001b[0m \u001b[0;34m=\u001b[0m \u001b[0mclock2\u001b[0m\u001b[0;34m(\u001b[0m\u001b[0;34m)\u001b[0m\u001b[0;34m\u001b[0m\u001b[0;34m\u001b[0m\u001b[0m\n\u001b[1;32m   1195\u001b[0m             \u001b[0mout\u001b[0m \u001b[0;34m=\u001b[0m \u001b[0;32mNone\u001b[0m\u001b[0;34m\u001b[0m\u001b[0;34m\u001b[0m\u001b[0m\n",
            "\u001b[0;32m<timed exec>\u001b[0m in \u001b[0;36m<module>\u001b[0;34m()\u001b[0m\n",
            "\u001b[0;32m/usr/lib/python3.6/multiprocessing/pool.py\u001b[0m in \u001b[0;36mmap\u001b[0;34m(self, func, iterable, chunksize)\u001b[0m\n\u001b[1;32m    264\u001b[0m         \u001b[0;32min\u001b[0m \u001b[0ma\u001b[0m \u001b[0mlist\u001b[0m \u001b[0mthat\u001b[0m \u001b[0;32mis\u001b[0m \u001b[0mreturned\u001b[0m\u001b[0;34m.\u001b[0m\u001b[0;34m\u001b[0m\u001b[0;34m\u001b[0m\u001b[0m\n\u001b[1;32m    265\u001b[0m         '''\n\u001b[0;32m--> 266\u001b[0;31m         \u001b[0;32mreturn\u001b[0m \u001b[0mself\u001b[0m\u001b[0;34m.\u001b[0m\u001b[0m_map_async\u001b[0m\u001b[0;34m(\u001b[0m\u001b[0mfunc\u001b[0m\u001b[0;34m,\u001b[0m \u001b[0miterable\u001b[0m\u001b[0;34m,\u001b[0m \u001b[0mmapstar\u001b[0m\u001b[0;34m,\u001b[0m \u001b[0mchunksize\u001b[0m\u001b[0;34m)\u001b[0m\u001b[0;34m.\u001b[0m\u001b[0mget\u001b[0m\u001b[0;34m(\u001b[0m\u001b[0;34m)\u001b[0m\u001b[0;34m\u001b[0m\u001b[0;34m\u001b[0m\u001b[0m\n\u001b[0m\u001b[1;32m    267\u001b[0m \u001b[0;34m\u001b[0m\u001b[0m\n\u001b[1;32m    268\u001b[0m     \u001b[0;32mdef\u001b[0m \u001b[0mstarmap\u001b[0m\u001b[0;34m(\u001b[0m\u001b[0mself\u001b[0m\u001b[0;34m,\u001b[0m \u001b[0mfunc\u001b[0m\u001b[0;34m,\u001b[0m \u001b[0miterable\u001b[0m\u001b[0;34m,\u001b[0m \u001b[0mchunksize\u001b[0m\u001b[0;34m=\u001b[0m\u001b[0;32mNone\u001b[0m\u001b[0;34m)\u001b[0m\u001b[0;34m:\u001b[0m\u001b[0;34m\u001b[0m\u001b[0;34m\u001b[0m\u001b[0m\n",
            "\u001b[0;32m/usr/lib/python3.6/multiprocessing/pool.py\u001b[0m in \u001b[0;36mget\u001b[0;34m(self, timeout)\u001b[0m\n\u001b[1;32m    642\u001b[0m             \u001b[0;32mreturn\u001b[0m \u001b[0mself\u001b[0m\u001b[0;34m.\u001b[0m\u001b[0m_value\u001b[0m\u001b[0;34m\u001b[0m\u001b[0;34m\u001b[0m\u001b[0m\n\u001b[1;32m    643\u001b[0m         \u001b[0;32melse\u001b[0m\u001b[0;34m:\u001b[0m\u001b[0;34m\u001b[0m\u001b[0;34m\u001b[0m\u001b[0m\n\u001b[0;32m--> 644\u001b[0;31m             \u001b[0;32mraise\u001b[0m \u001b[0mself\u001b[0m\u001b[0;34m.\u001b[0m\u001b[0m_value\u001b[0m\u001b[0;34m\u001b[0m\u001b[0;34m\u001b[0m\u001b[0m\n\u001b[0m\u001b[1;32m    645\u001b[0m \u001b[0;34m\u001b[0m\u001b[0m\n\u001b[1;32m    646\u001b[0m     \u001b[0;32mdef\u001b[0m \u001b[0m_set\u001b[0m\u001b[0;34m(\u001b[0m\u001b[0mself\u001b[0m\u001b[0;34m,\u001b[0m \u001b[0mi\u001b[0m\u001b[0;34m,\u001b[0m \u001b[0mobj\u001b[0m\u001b[0;34m)\u001b[0m\u001b[0;34m:\u001b[0m\u001b[0;34m\u001b[0m\u001b[0;34m\u001b[0m\u001b[0m\n",
            "\u001b[0;31mNameError\u001b[0m: name 'spell' is not defined"
          ]
        }
      ]
    },
    {
      "cell_type": "markdown",
      "metadata": {
        "id": "3_cY_GZmsoyZ"
      },
      "source": [
        "### Opcion 3\n"
      ]
    },
    {
      "cell_type": "code",
      "metadata": {
        "id": "4cB2AoPzOUHf"
      },
      "source": [
        "%%time\n",
        "lista_tweets = []\n",
        "\n",
        "for tweet in examples_preprocesing:\n",
        "  #sentences = sent_tokenize(example_preprocesing)\n",
        "  tokens = word_tokenize(tweet)\n",
        "  clean_tokens = []\n",
        "  for token in tokens:\n",
        "    #No english stop words\n",
        "    if token not in english_stops:\n",
        "      #We remove those words enterely made of these special symbols.\n",
        "      if not re.match(\"[`!\\\"_$%&/()=_ˆ*¡@]+\",token):\n",
        "        #If the word contains these special symbols, we eliminate them but we maintain the rest.\n",
        "        token = re.sub(\"[`!\\\"_$%&/()=_ˆ*¡@]\", \"\", token)\n",
        "\n",
        "        #Spelling corrections\n",
        "        token = spell.correction(token)\n",
        "\n",
        "        #Extractlemmatization\n",
        "        token = lemmatizer.lemmatize(token)\n",
        "\n",
        "        #Remove all capital letters\n",
        "        token = token.lower()\n",
        "\n",
        "        clean_tokens.append(token)\n",
        "  lista_tweets.append(clean_tokens)\n"
      ],
      "execution_count": null,
      "outputs": []
    },
    {
      "cell_type": "markdown",
      "metadata": {
        "id": "bh-cnw3iVg0b"
      },
      "source": [
        "### NOTA\n",
        "\n",
        "# Parece que el Pool ha sido util\n",
        "\n",
        "| K    \t| t_pool  \t| t_norm \t|\n",
        "|------\t|---------\t|--------\t|\n",
        "| 20   \t| 12.8    \t| 14.6   \t|\n",
        "| 100  \t| 1m 54s  \t| 2m 15s \t|\n",
        "| 1000 \t| 22m 30s \t| 28m 32 \t|"
      ]
    },
    {
      "cell_type": "code",
      "metadata": {
        "id": "6QE8A__y0jTV"
      },
      "source": [
        "lista_tweets"
      ],
      "execution_count": null,
      "outputs": []
    }
  ]
}