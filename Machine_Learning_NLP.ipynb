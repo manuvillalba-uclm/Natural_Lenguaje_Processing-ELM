{
  "nbformat": 4,
  "nbformat_minor": 0,
  "metadata": {
    "colab": {
      "name": "Machine Learning NLP.ipynb",
      "provenance": [],
      "collapsed_sections": [],
      "include_colab_link": true
    },
    "kernelspec": {
      "name": "python3",
      "display_name": "Python 3"
    }
  },
  "cells": [
    {
      "cell_type": "markdown",
      "metadata": {
        "id": "view-in-github",
        "colab_type": "text"
      },
      "source": [
        "<a href=\"https://colab.research.google.com/github/manuvillalba-uclm/Natural_Lenguaje_Processing-ELM/blob/Preprocessing/Machine_Learning_NLP.ipynb\" target=\"_parent\"><img src=\"https://colab.research.google.com/assets/colab-badge.svg\" alt=\"Open In Colab\"/></a>"
      ]
    },
    {
      "cell_type": "markdown",
      "metadata": {
        "id": "h1DfHz0Wv4be"
      },
      "source": [
        "# TO DO\n",
        "\n",
        "Dividir el collab en varios, este se mantendría para generear el csv de los tweets pre-procesados y vectorizados.\n",
        "\n",
        "\n",
        "Los emojis los traduce bien pero no como queremos, nos da igual que nos diga face_with_tears_of_joy, el objetivo es que tears y joy se integren con el texto, eso hay que revisarlo.\n",
        "\n",
        "No sé hasta que punto nos interesa mantener los hastag\n",
        "\n",
        "\n"
      ]
    },
    {
      "cell_type": "code",
      "metadata": {
        "id": "N3pAGd1xLHmV",
        "colab": {
          "base_uri": "https://localhost:8080/"
        },
        "outputId": "43f3cdb4-4bda-4288-ec60-d612ed6d9df0"
      },
      "source": [
        "# dataframes library\n",
        "!pip install pyspellchecker \n",
        "!pip install contractions\n",
        "!pip install nltk --upgrade\n",
        "!pip install emoji\n",
        "\n",
        "import pandas as pd\n",
        "import re\n",
        "import nltk\n",
        "nltk.download(\"popular\")\n",
        "nltk.download('vader_lexicon') #sentiment analysis\n",
        "nltk.download('twython') #twitter not necessary\n",
        "\n",
        "from nltk.tokenize.casual import TweetTokenizer\n",
        "from nltk.tokenize import word_tokenize\n",
        "from nltk.tokenize import sent_tokenize\n",
        "from nltk.corpus import stopwords\n",
        "from nltk.stem import PorterStemmer\n",
        "from nltk.stem import WordNetLemmatizer\n",
        "\n",
        "#Correcciones y emoji\n",
        "import emoji\n",
        "from textblob import TextBlob\n",
        "from spellchecker import SpellChecker\n",
        "import contractions\n",
        "from multiprocessing import Pool\n",
        "\n",
        "#Vectorization\n",
        "from sklearn.feature_extraction.text import TfidfVectorizer\n",
        "\n",
        "#Feature selection \n",
        "from sklearn.feature_selection import SelectKBest, chi2\n",
        "\n",
        "#Classification\n",
        "from sklearn.model_selection import train_test_split\n",
        "\n",
        "from sklearn import neighbors\n",
        "from sklearn.model_selection import KFold\n",
        "import matplotlib.pyplot as plt\n",
        "from sklearn.metrics import accuracy_score\n",
        "import numpy as np\n",
        "\n",
        "from sklearn.metrics import confusion_matrix\n",
        "from sklearn.utils.multiclass import unique_labels\n",
        "\n"
      ],
      "execution_count": 1,
      "outputs": [
        {
          "output_type": "stream",
          "text": [
            "Requirement already satisfied: pyspellchecker in /usr/local/lib/python3.6/dist-packages (0.5.5)\n",
            "Requirement already satisfied: contractions in /usr/local/lib/python3.6/dist-packages (0.0.25)\n",
            "Requirement already satisfied: textsearch in /usr/local/lib/python3.6/dist-packages (from contractions) (0.0.17)\n",
            "Requirement already satisfied: pyahocorasick in /usr/local/lib/python3.6/dist-packages (from textsearch->contractions) (1.4.0)\n",
            "Requirement already satisfied: Unidecode in /usr/local/lib/python3.6/dist-packages (from textsearch->contractions) (1.1.1)\n",
            "Requirement already up-to-date: nltk in /usr/local/lib/python3.6/dist-packages (3.5)\n",
            "Requirement already satisfied, skipping upgrade: click in /usr/local/lib/python3.6/dist-packages (from nltk) (7.1.2)\n",
            "Requirement already satisfied, skipping upgrade: regex in /usr/local/lib/python3.6/dist-packages (from nltk) (2019.12.20)\n",
            "Requirement already satisfied, skipping upgrade: joblib in /usr/local/lib/python3.6/dist-packages (from nltk) (0.17.0)\n",
            "Requirement already satisfied, skipping upgrade: tqdm in /usr/local/lib/python3.6/dist-packages (from nltk) (4.41.1)\n",
            "Requirement already satisfied: emoji in /usr/local/lib/python3.6/dist-packages (0.6.0)\n"
          ],
          "name": "stdout"
        },
        {
          "output_type": "stream",
          "text": [
            "[nltk_data] Downloading collection 'popular'\n",
            "[nltk_data]    | \n",
            "[nltk_data]    | Downloading package cmudict to /root/nltk_data...\n",
            "[nltk_data]    |   Package cmudict is already up-to-date!\n",
            "[nltk_data]    | Downloading package gazetteers to /root/nltk_data...\n",
            "[nltk_data]    |   Package gazetteers is already up-to-date!\n",
            "[nltk_data]    | Downloading package genesis to /root/nltk_data...\n",
            "[nltk_data]    |   Package genesis is already up-to-date!\n",
            "[nltk_data]    | Downloading package gutenberg to /root/nltk_data...\n",
            "[nltk_data]    |   Package gutenberg is already up-to-date!\n",
            "[nltk_data]    | Downloading package inaugural to /root/nltk_data...\n",
            "[nltk_data]    |   Package inaugural is already up-to-date!\n",
            "[nltk_data]    | Downloading package movie_reviews to\n",
            "[nltk_data]    |     /root/nltk_data...\n",
            "[nltk_data]    |   Package movie_reviews is already up-to-date!\n",
            "[nltk_data]    | Downloading package names to /root/nltk_data...\n",
            "[nltk_data]    |   Package names is already up-to-date!\n",
            "[nltk_data]    | Downloading package shakespeare to /root/nltk_data...\n",
            "[nltk_data]    |   Package shakespeare is already up-to-date!\n",
            "[nltk_data]    | Downloading package stopwords to /root/nltk_data...\n",
            "[nltk_data]    |   Package stopwords is already up-to-date!\n",
            "[nltk_data]    | Downloading package treebank to /root/nltk_data...\n",
            "[nltk_data]    |   Package treebank is already up-to-date!\n",
            "[nltk_data]    | Downloading package twitter_samples to\n",
            "[nltk_data]    |     /root/nltk_data...\n",
            "[nltk_data]    |   Package twitter_samples is already up-to-date!\n",
            "[nltk_data]    | Downloading package omw to /root/nltk_data...\n",
            "[nltk_data]    |   Package omw is already up-to-date!\n",
            "[nltk_data]    | Downloading package wordnet to /root/nltk_data...\n",
            "[nltk_data]    |   Package wordnet is already up-to-date!\n",
            "[nltk_data]    | Downloading package wordnet_ic to /root/nltk_data...\n",
            "[nltk_data]    |   Package wordnet_ic is already up-to-date!\n",
            "[nltk_data]    | Downloading package words to /root/nltk_data...\n",
            "[nltk_data]    |   Package words is already up-to-date!\n",
            "[nltk_data]    | Downloading package maxent_ne_chunker to\n",
            "[nltk_data]    |     /root/nltk_data...\n",
            "[nltk_data]    |   Package maxent_ne_chunker is already up-to-date!\n",
            "[nltk_data]    | Downloading package punkt to /root/nltk_data...\n",
            "[nltk_data]    |   Package punkt is already up-to-date!\n",
            "[nltk_data]    | Downloading package snowball_data to\n",
            "[nltk_data]    |     /root/nltk_data...\n",
            "[nltk_data]    |   Package snowball_data is already up-to-date!\n",
            "[nltk_data]    | Downloading package averaged_perceptron_tagger to\n",
            "[nltk_data]    |     /root/nltk_data...\n",
            "[nltk_data]    |   Package averaged_perceptron_tagger is already up-\n",
            "[nltk_data]    |       to-date!\n",
            "[nltk_data]    | \n",
            "[nltk_data]  Done downloading collection popular\n",
            "[nltk_data] Downloading package vader_lexicon to /root/nltk_data...\n",
            "[nltk_data]   Package vader_lexicon is already up-to-date!\n",
            "[nltk_data] Error loading twython: Package 'twython' not found in\n",
            "[nltk_data]     index\n"
          ],
          "name": "stderr"
        }
      ]
    },
    {
      "cell_type": "code",
      "metadata": {
        "id": "_-ZtJ2_PTpme"
      },
      "source": [
        "english_stops = set(stopwords.words('english'))\n",
        "spell = SpellChecker()\n",
        "lemmatizer = WordNetLemmatizer()\n",
        "stemmer = PorterStemmer()\n"
      ],
      "execution_count": 2,
      "outputs": []
    },
    {
      "cell_type": "code",
      "metadata": {
        "id": "9FFUw2ucLm1b"
      },
      "source": [
        "raw_dataset_tweets = pd.read_csv('https://raw.githubusercontent.com/manuvillalba-uclm/Natural_Lenguaje_Processing-ELM/main/labeled_data.csv?token=ANLXPWL27WHT4VS5U4LHMVK72D27M', index_col=[0])"
      ],
      "execution_count": 3,
      "outputs": []
    },
    {
      "cell_type": "markdown",
      "metadata": {
        "id": "pVeA5dHlc_zi"
      },
      "source": [
        "# Preprocesing:\n",
        "\n",
        "Mandatory preprocessing steps\n",
        " - Remove unseful data: ! \"_ $% & / ( ) = _ ˆ* ¡@\n",
        " - Remove all capital letters\n",
        " - Correct wrong words: https://norvig.com/spell-correct.html\n",
        " - Lemmatize all terms\n",
        "\n",
        "Optional preprocessing steps:\n",
        " - Remove contractions: don’t -> do not\n",
        " - Remove repeated words: great great show\n",
        " - Replace emoticons, for example,🙂 with “smile”, 😉with “ok”\n"
      ]
    },
    {
      "cell_type": "markdown",
      "metadata": {
        "id": "9yyv-WL_fRlC"
      },
      "source": [
        "We just need index and tweet content for this first part, so we drop Crowdflowers users information from the dataset."
      ]
    },
    {
      "cell_type": "code",
      "metadata": {
        "id": "82Wk7D3Ifafg"
      },
      "source": [
        "dataset_tweets_preprocesing = raw_dataset_tweets.copy()\n",
        "dataset_tweets_preprocesing.drop(\"count\", axis = 1, inplace = True)\n",
        "dataset_tweets_preprocesing.drop(\"hate_speech\", axis = 1, inplace = True)\n",
        "dataset_tweets_preprocesing.drop(\"offensive_language\", axis = 1, inplace = True)\n",
        "dataset_tweets_preprocesing.drop(\"neither\", axis = 1, inplace = True)\n",
        "dataset_tweets_preprocesing.drop(\"class\", axis = 1, inplace = True)"
      ],
      "execution_count": 4,
      "outputs": []
    },
    {
      "cell_type": "code",
      "metadata": {
        "id": "EftodzLJgupS",
        "colab": {
          "base_uri": "https://localhost:8080/",
          "height": 402
        },
        "outputId": "79261cad-c885-47f9-e1db-70447b986eb7"
      },
      "source": [
        "dataset_tweets_preprocesing"
      ],
      "execution_count": 5,
      "outputs": [
        {
          "output_type": "execute_result",
          "data": {
            "text/html": [
              "<div>\n",
              "<style scoped>\n",
              "    .dataframe tbody tr th:only-of-type {\n",
              "        vertical-align: middle;\n",
              "    }\n",
              "\n",
              "    .dataframe tbody tr th {\n",
              "        vertical-align: top;\n",
              "    }\n",
              "\n",
              "    .dataframe thead th {\n",
              "        text-align: right;\n",
              "    }\n",
              "</style>\n",
              "<table border=\"1\" class=\"dataframe\">\n",
              "  <thead>\n",
              "    <tr style=\"text-align: right;\">\n",
              "      <th></th>\n",
              "      <th>tweet</th>\n",
              "    </tr>\n",
              "  </thead>\n",
              "  <tbody>\n",
              "    <tr>\n",
              "      <th>0</th>\n",
              "      <td>!!! RT @mayasolovely: As a woman you shouldn't...</td>\n",
              "    </tr>\n",
              "    <tr>\n",
              "      <th>1</th>\n",
              "      <td>!!!!! RT @mleew17: boy dats cold...tyga dwn ba...</td>\n",
              "    </tr>\n",
              "    <tr>\n",
              "      <th>2</th>\n",
              "      <td>!!!!!!! RT @UrKindOfBrand Dawg!!!! RT @80sbaby...</td>\n",
              "    </tr>\n",
              "    <tr>\n",
              "      <th>3</th>\n",
              "      <td>!!!!!!!!! RT @C_G_Anderson: @viva_based she lo...</td>\n",
              "    </tr>\n",
              "    <tr>\n",
              "      <th>4</th>\n",
              "      <td>!!!!!!!!!!!!! RT @ShenikaRoberts: The shit you...</td>\n",
              "    </tr>\n",
              "    <tr>\n",
              "      <th>...</th>\n",
              "      <td>...</td>\n",
              "    </tr>\n",
              "    <tr>\n",
              "      <th>25291</th>\n",
              "      <td>you's a muthaf***in lie &amp;#8220;@LifeAsKing: @2...</td>\n",
              "    </tr>\n",
              "    <tr>\n",
              "      <th>25292</th>\n",
              "      <td>you've gone and broke the wrong heart baby, an...</td>\n",
              "    </tr>\n",
              "    <tr>\n",
              "      <th>25294</th>\n",
              "      <td>young buck wanna eat!!.. dat nigguh like I ain...</td>\n",
              "    </tr>\n",
              "    <tr>\n",
              "      <th>25295</th>\n",
              "      <td>youu got wild bitches tellin you lies</td>\n",
              "    </tr>\n",
              "    <tr>\n",
              "      <th>25296</th>\n",
              "      <td>~~Ruffled | Ntac Eileen Dahlia - Beautiful col...</td>\n",
              "    </tr>\n",
              "  </tbody>\n",
              "</table>\n",
              "<p>24783 rows × 1 columns</p>\n",
              "</div>"
            ],
            "text/plain": [
              "                                                   tweet\n",
              "0      !!! RT @mayasolovely: As a woman you shouldn't...\n",
              "1      !!!!! RT @mleew17: boy dats cold...tyga dwn ba...\n",
              "2      !!!!!!! RT @UrKindOfBrand Dawg!!!! RT @80sbaby...\n",
              "3      !!!!!!!!! RT @C_G_Anderson: @viva_based she lo...\n",
              "4      !!!!!!!!!!!!! RT @ShenikaRoberts: The shit you...\n",
              "...                                                  ...\n",
              "25291  you's a muthaf***in lie &#8220;@LifeAsKing: @2...\n",
              "25292  you've gone and broke the wrong heart baby, an...\n",
              "25294  young buck wanna eat!!.. dat nigguh like I ain...\n",
              "25295              youu got wild bitches tellin you lies\n",
              "25296  ~~Ruffled | Ntac Eileen Dahlia - Beautiful col...\n",
              "\n",
              "[24783 rows x 1 columns]"
            ]
          },
          "metadata": {
            "tags": []
          },
          "execution_count": 5
        }
      ]
    },
    {
      "cell_type": "markdown",
      "metadata": {
        "id": "ESxIG_goicoH"
      },
      "source": [
        "Seleccionamos sólo unos pocos para trabajar al principio más fácilmente"
      ]
    },
    {
      "cell_type": "code",
      "metadata": {
        "id": "EH38KuB2hrer",
        "colab": {
          "base_uri": "https://localhost:8080/"
        },
        "outputId": "27180b13-1005-4552-f9c0-8d23b44dd92a"
      },
      "source": [
        "#@title Texto de título predeterminado\n",
        "num_tweets = 24783 #@param {type:\"slider\", min:20, max:24783, step:10}\n",
        "\n",
        "examples_preprocesing = dataset_tweets_preprocesing.iloc[0:num_tweets,0]\n",
        "examples_preprocesing.reset_index(inplace = True, drop= True)\n",
        "print(examples_preprocesing)\n",
        "\n",
        "lista_tweets = []\n",
        "\n"
      ],
      "execution_count": 6,
      "outputs": [
        {
          "output_type": "stream",
          "text": [
            "0        !!! RT @mayasolovely: As a woman you shouldn't...\n",
            "1        !!!!! RT @mleew17: boy dats cold...tyga dwn ba...\n",
            "2        !!!!!!! RT @UrKindOfBrand Dawg!!!! RT @80sbaby...\n",
            "3        !!!!!!!!! RT @C_G_Anderson: @viva_based she lo...\n",
            "4        !!!!!!!!!!!!! RT @ShenikaRoberts: The shit you...\n",
            "                               ...                        \n",
            "24778    you's a muthaf***in lie &#8220;@LifeAsKing: @2...\n",
            "24779    you've gone and broke the wrong heart baby, an...\n",
            "24780    young buck wanna eat!!.. dat nigguh like I ain...\n",
            "24781                youu got wild bitches tellin you lies\n",
            "24782    ~~Ruffled | Ntac Eileen Dahlia - Beautiful col...\n",
            "Name: tweet, Length: 24783, dtype: object\n"
          ],
          "name": "stdout"
        }
      ]
    },
    {
      "cell_type": "markdown",
      "metadata": {
        "id": "vYoIEBN9I3y3"
      },
      "source": [
        "### Definimos las funciones que procesarán los tweets\n"
      ]
    },
    {
      "cell_type": "code",
      "metadata": {
        "id": "JNH6Bnc87p7u"
      },
      "source": [
        "def stopwords(text):\n",
        "    return \" \".join([word for word in str(text).split() if word not in english_stops])\n",
        "\n",
        "def remove_urls(text):\n",
        "    url_pattern = re.compile(r'https?://\\S+|www\\.\\S+')\n",
        "    return url_pattern.sub(r'', text)\n",
        "\n",
        "def demojizar(arr):\n",
        "    text_arr = []\n",
        "    for token in arr:\n",
        "      text_arr.append(emoji.demojize(token, delimiters=(\"\", \"\")))\n",
        "    return text_arr\n",
        "\n",
        "def textConditions(token):\n",
        "  if re.match(\"[`!\\\"_$%&/()=_ˆ*¡,@:.]+\",token): #Signos de puntuacion\n",
        "    return False\n",
        "  if re.match(\"[-><~]+\",token): #Signos de puntuacion\n",
        "    return False\n",
        "  if re.match(\"[^\\u0000-\\u007F]+\",token): #Unicodes\n",
        "    return False\n",
        "  return True\n",
        "\n",
        "def processArray(arr):\n",
        "  text_arr = []\n",
        "  for token in arr:\n",
        "    if textConditions(token):\n",
        "      token = stemmer.stem(token)\n",
        "      token = lemmatizer.lemmatize(token) # < ---- LEMMA\n",
        "      text_arr.append(token)\n",
        "  # try: #Aqui iria el tagger de palabras, pero solo me lo hace para letras (ERROR)\n",
        "  #   arr_tags = nltk.pos_tag(text_arr)\n",
        "  # except:\n",
        "  #   arr_tags = text_arr\n",
        "  return text_arr"
      ],
      "execution_count": 7,
      "outputs": []
    },
    {
      "cell_type": "code",
      "metadata": {
        "id": "IYkHFwcA7UuA"
      },
      "source": [
        "%%time\n",
        "\n",
        "ds_alt_twitter = examples_preprocesing.copy()\n",
        "ds_alt_twitter = ds_alt_twitter.str.lower() #A minusc\n",
        "ds_alt_twitter = ds_alt_twitter.apply(contractions.fix) #Arreglar contracciones\n",
        "ds_alt_twitter = ds_alt_twitter.apply(contractions.fix) #Plural a singular\n",
        "\n",
        "ds_alt_twitter = ds_alt_twitter.str.replace('(?<=^|(?<=[^a-zA-Z0-9-_\\.]))@([A-Za-z0-9_]+[A-Za-z0-9-_]+)','') #Remover usuario\n",
        "ds_alt_twitter = ds_alt_twitter.str.replace('(?<=^|(?<=[^a-zA-Z0-9-_\\.]))@([A-Za-z0-9_]+[A-Za-z0-9-_]+)','') #Remover usuario\n",
        "ds_alt_twitter = ds_alt_twitter.str.replace('rt','') #Remover rt\n",
        "\n",
        "ds_alt_twitter = ds_alt_twitter.apply(stopwords) #Quitar Stopwords\n",
        "ds_alt_twitter = ds_alt_twitter.apply(remove_urls) #Quitar url\n",
        "\n",
        "ds_alt_twitter = ds_alt_twitter.apply(lambda x: str(TextBlob(x).correct()))\n",
        "ds_alt_twitter = ds_alt_twitter.apply(TweetTokenizer().tokenize) #Tokenizar\n",
        "ds_alt_twitter = ds_alt_twitter.apply(demojizar) #Traducir emoji a texto\n",
        "ds_alt_twitter = ds_alt_twitter.apply(processArray) #Traducir emoji a texto\n",
        "\n"
      ],
      "execution_count": null,
      "outputs": []
    },
    {
      "cell_type": "markdown",
      "metadata": {
        "id": "fSnWyBdCm8V2"
      },
      "source": [
        "# Vectorization\n"
      ]
    },
    {
      "cell_type": "code",
      "metadata": {
        "id": "pL3mkFQFrHW2"
      },
      "source": [
        "def identity_tokenizer(text):\n",
        "    return text"
      ],
      "execution_count": null,
      "outputs": []
    },
    {
      "cell_type": "code",
      "metadata": {
        "id": "TtwBBcIUnN5-"
      },
      "source": [
        "# TF-IDF\n",
        "vectorizer = TfidfVectorizer(tokenizer=identity_tokenizer, lowercase=False)    \n",
        "vectors = vectorizer.fit_transform(ds_alt_twitter)\n",
        "\n",
        "feature_names = vectorizer.get_feature_names()\n",
        "dense = vectors.todense()\n",
        "denselist = dense.tolist()\n",
        "tweets_vectorization = pd.DataFrame(denselist, columns=feature_names)\n"
      ],
      "execution_count": null,
      "outputs": []
    },
    {
      "cell_type": "code",
      "metadata": {
        "id": "MVQOKRsFMZaH"
      },
      "source": [
        "tweets_vectorization"
      ],
      "execution_count": null,
      "outputs": []
    },
    {
      "cell_type": "code",
      "metadata": {
        "id": "Vx3kLVUVaThl"
      },
      "source": [
        "from google.colab import drive\n",
        "drive.mount('/content/gdrive')\n",
        "\n",
        "ds_alt_twitter.to_csv(r'/content/gdrive/My Drive/preprocesado.csv')\n",
        "tweets_vectorization.to_csv(r'/content/gdrive/My Drive/vectorization.csv')"
      ],
      "execution_count": null,
      "outputs": []
    },
    {
      "cell_type": "markdown",
      "metadata": {
        "id": "CmLhRktQyXuP"
      },
      "source": [
        "# Feature Selection"
      ]
    },
    {
      "cell_type": "code",
      "metadata": {
        "id": "LBguGSqF32eW"
      },
      "source": [
        "class_label = raw_dataset_tweets.copy()\n",
        "class_label = class_label['class']\n"
      ],
      "execution_count": null,
      "outputs": []
    },
    {
      "cell_type": "code",
      "metadata": {
        "id": "7EwpHqVfryVX"
      },
      "source": [
        "n_tweets = tweets_vectorization.shape[0]\n",
        "n_features = tweets_vectorization.shape[1]\n",
        "n_features = int(n_features*0.3)\n",
        "\n",
        "class_label = class_label.iloc[0:n_tweets]\n",
        "class_label.reset_index(inplace = True, drop = True)\n",
        "#quitamos el 70% de las features, se supone que en función del target class_label\n",
        "tweets_vectorization_selected = SelectKBest(chi2, k=n_features).fit_transform(tweets_vectorization,class_label)\n",
        "tweets_vectorization_selected\n",
        "\n",
        "df_tweets_vectorization_selected = pd.DataFrame(data=tweets_vectorization_selected)\n",
        "df_tweets_vectorization_selected['target']= class_label"
      ],
      "execution_count": null,
      "outputs": []
    },
    {
      "cell_type": "code",
      "metadata": {
        "id": "2zGSdbQXDze-"
      },
      "source": [
        "df_tweets_vectorization_selected"
      ],
      "execution_count": null,
      "outputs": []
    },
    {
      "cell_type": "markdown",
      "metadata": {
        "id": "MeaZt3Wn8i0X"
      },
      "source": [
        "# Classification"
      ]
    },
    {
      "cell_type": "code",
      "metadata": {
        "id": "2s6lmFMa9d_j"
      },
      "source": [
        "tweets_classification = df_tweets_vectorization_selected.copy()"
      ],
      "execution_count": null,
      "outputs": []
    },
    {
      "cell_type": "code",
      "metadata": {
        "id": "xqUrulDl5Ern"
      },
      "source": [
        "train, test = train_test_split(tweets_classification, test_size=0.30)\n",
        "train.reset_index(inplace = True)\n",
        "test.reset_index(inplace = True)\n",
        "print(train.shape)\n",
        "print(test.shape)"
      ],
      "execution_count": null,
      "outputs": []
    },
    {
      "cell_type": "code",
      "metadata": {
        "id": "eyonx4Mt-5x_"
      },
      "source": [
        "cv = KFold(n_splits = 5, shuffle = True) # shuffle = False si hay dimensión temporal \n",
        "for i, weights in enumerate(['uniform', 'distance']):\n",
        "   total_scores = []\n",
        "   for n_neighbors in range(1,30):\n",
        "       fold_accuracy = []\n",
        "       knn = neighbors.KNeighborsClassifier(n_neighbors, weights=weights)\n",
        "       for train_fold, test_fold in cv.split(train):\n",
        "          # División train test aleatoria\n",
        "          f_train = train.loc[train_fold]\n",
        "          f_test = train.loc[test_fold]\n",
        "          # entrenamiento y ejecución del modelo\n",
        "          knn.fit( X = f_train.drop(['target'], axis=1), \n",
        "                               y = f_train['target'])\n",
        "          y_pred = knn.predict(X = f_test.drop(['target'], axis = 1))\n",
        "          # evaluación del modelo\n",
        "          acc = accuracy_score(f_test['target'], y_pred)\n",
        "          fold_accuracy.append(acc)\n",
        "       total_scores.append(sum(fold_accuracy)/len(fold_accuracy))\n",
        "   \n",
        "   plt.plot(range(1,len(total_scores)+1), total_scores, \n",
        "             marker='o', label=weights)\n",
        "   print ('Max Value ' +  weights + \" : \" +  str(max(total_scores)) +\" (\" + str(np.argmax(total_scores) + 1) + \")\")\n",
        "   plt.ylabel('Acc')      \n",
        "    \n",
        "\n",
        "plt.legend()\n",
        "plt.show() "
      ],
      "execution_count": null,
      "outputs": []
    },
    {
      "cell_type": "code",
      "metadata": {
        "id": "ARKK0U3P85eu"
      },
      "source": [
        "n_neighbors = 25\n",
        "weights = 'distance'\n",
        "knn = neighbors.KNeighborsClassifier(n_neighbors= n_neighbors, weights=weights) \n",
        "# fit and predict\n",
        "knn.fit(X = train.loc[:, train.columns != 'target'], y = train['target'])\n",
        "y_pred = knn.predict(X = test.loc[:, test.columns != 'target'])\n",
        "acc = accuracy_score(test['target'], y_pred)\n",
        "print ('Acc', acc)"
      ],
      "execution_count": null,
      "outputs": []
    },
    {
      "cell_type": "code",
      "metadata": {
        "id": "0hXRIptTAFs3"
      },
      "source": [
        "def plot_confusion_matrix(y_true, y_pred, classes,\n",
        "                          normalize=False,\n",
        "                          title=None,\n",
        "                          cmap=plt.cm.Blues):\n",
        "    \"\"\"\n",
        "    This function prints and plots the confusion matrix.\n",
        "    Normalization can be applied by setting `normalize=True`.\n",
        "    \"\"\"\n",
        "    if not title:\n",
        "        if normalize:\n",
        "            title = 'Normalized confusion matrix'\n",
        "        else:\n",
        "            title = 'Confusion matrix, without normalization'\n",
        "\n",
        "    # Compute confusion matrix\n",
        "    cm = confusion_matrix(y_true, y_pred)\n",
        "    # Only use the labels that appear in the data\n",
        "    classes = classes[unique_labels(y_true, y_pred)]\n",
        "    if normalize:\n",
        "        cm = cm.astype('float') / cm.sum(axis=1)[:, np.newaxis]\n",
        "        print(\"Normalized confusion matrix\")\n",
        "    else:\n",
        "        print('Confusion matrix, without normalization')\n",
        "\n",
        "    print(cm)\n",
        "\n",
        "    fig, ax = plt.subplots()\n",
        "    im = ax.imshow(cm, interpolation='nearest', cmap=cmap)\n",
        "    ax.figure.colorbar(im, ax=ax)\n",
        "    # We want to show all ticks...\n",
        "    ax.set(xticks=np.arange(cm.shape[1]),\n",
        "           yticks=np.arange(cm.shape[0]),\n",
        "           # ... and label them with the respective list entries\n",
        "           xticklabels=classes, yticklabels=classes,\n",
        "           title=title,\n",
        "           ylabel='True label',\n",
        "           xlabel='Predicted label')\n",
        "\n",
        "    # Rotate the tick labels and set their alignment.\n",
        "    plt.setp(ax.get_xticklabels(), rotation=45, ha=\"right\",\n",
        "             rotation_mode=\"anchor\")\n",
        "\n",
        "    # Loop over data dimensions and create text annotations.\n",
        "    fmt = '.2f' if normalize else 'd'\n",
        "    thresh = cm.max() / 2.\n",
        "    for i in range(cm.shape[0]):\n",
        "        for j in range(cm.shape[1]):\n",
        "            ax.text(j, i, format(cm[i, j], fmt),\n",
        "                    ha=\"center\", va=\"center\",\n",
        "                    color=\"white\" if cm[i, j] > thresh else \"black\")\n",
        "    fig.tight_layout()\n",
        "    return ax"
      ],
      "execution_count": null,
      "outputs": []
    },
    {
      "cell_type": "code",
      "metadata": {
        "id": "Hf2EMDOLAPmG"
      },
      "source": [
        "plot_confusion_matrix(test['target'], y_pred, classes=class_label, normalize=True,\n",
        "                      title='Confusion matrix')\n",
        "  "
      ],
      "execution_count": null,
      "outputs": []
    }
  ]
}