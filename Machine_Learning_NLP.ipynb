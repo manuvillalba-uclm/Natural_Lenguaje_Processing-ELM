{
  "nbformat": 4,
  "nbformat_minor": 0,
  "metadata": {
    "colab": {
      "name": "Machine Learning NLP.ipynb",
      "provenance": [],
      "authorship_tag": "ABX9TyNx187LeyBdRkmJbezn7Z0p",
      "include_colab_link": true
    },
    "kernelspec": {
      "name": "python3",
      "display_name": "Python 3"
    }
  },
  "cells": [
    {
      "cell_type": "markdown",
      "metadata": {
        "id": "view-in-github",
        "colab_type": "text"
      },
      "source": [
        "<a href=\"https://colab.research.google.com/github/manuvillalba-uclm/Natural_Lenguaje_Processing-ELM/blob/Preprocessing/Machine_Learning_NLP.ipynb\" target=\"_parent\"><img src=\"https://colab.research.google.com/assets/colab-badge.svg\" alt=\"Open In Colab\"/></a>"
      ]
    },
    {
      "cell_type": "code",
      "metadata": {
        "id": "N3pAGd1xLHmV",
        "colab": {
          "base_uri": "https://localhost:8080/"
        },
        "outputId": "13f5396f-2bfb-453c-a65d-478f85321a94"
      },
      "source": [
        "# dataframes library\n",
        "!pip install pyspellchecker\n",
        "import pandas as pd\n",
        "from spellchecker import SpellChecker\n",
        "import re\n",
        "import nltk\n",
        "nltk.download(\"popular\")\n",
        "nltk.download('vader_lexicon') #sentiment analysis\n",
        "nltk.download('twython') #twitter not necessary\n",
        "from nltk.tokenize import word_tokenize\n",
        "from nltk.tokenize import sent_tokenize\n",
        "from nltk.corpus import stopwords\n",
        "from nltk.stem import PorterStemmer"
      ],
      "execution_count": null,
      "outputs": [
        {
          "output_type": "stream",
          "text": [
            "Requirement already satisfied: pyspellchecker in /usr/local/lib/python3.6/dist-packages (0.5.5)\n",
            "[nltk_data] Downloading collection 'popular'\n",
            "[nltk_data]    | \n",
            "[nltk_data]    | Downloading package cmudict to /root/nltk_data...\n",
            "[nltk_data]    |   Package cmudict is already up-to-date!\n",
            "[nltk_data]    | Downloading package gazetteers to /root/nltk_data...\n",
            "[nltk_data]    |   Package gazetteers is already up-to-date!\n",
            "[nltk_data]    | Downloading package genesis to /root/nltk_data...\n",
            "[nltk_data]    |   Package genesis is already up-to-date!\n",
            "[nltk_data]    | Downloading package gutenberg to /root/nltk_data...\n",
            "[nltk_data]    |   Package gutenberg is already up-to-date!\n",
            "[nltk_data]    | Downloading package inaugural to /root/nltk_data...\n",
            "[nltk_data]    |   Package inaugural is already up-to-date!\n",
            "[nltk_data]    | Downloading package movie_reviews to\n",
            "[nltk_data]    |     /root/nltk_data...\n",
            "[nltk_data]    |   Package movie_reviews is already up-to-date!\n",
            "[nltk_data]    | Downloading package names to /root/nltk_data...\n",
            "[nltk_data]    |   Package names is already up-to-date!\n",
            "[nltk_data]    | Downloading package shakespeare to /root/nltk_data...\n",
            "[nltk_data]    |   Package shakespeare is already up-to-date!\n",
            "[nltk_data]    | Downloading package stopwords to /root/nltk_data...\n",
            "[nltk_data]    |   Package stopwords is already up-to-date!\n",
            "[nltk_data]    | Downloading package treebank to /root/nltk_data...\n",
            "[nltk_data]    |   Package treebank is already up-to-date!\n",
            "[nltk_data]    | Downloading package twitter_samples to\n",
            "[nltk_data]    |     /root/nltk_data...\n",
            "[nltk_data]    |   Package twitter_samples is already up-to-date!\n",
            "[nltk_data]    | Downloading package omw to /root/nltk_data...\n",
            "[nltk_data]    |   Package omw is already up-to-date!\n",
            "[nltk_data]    | Downloading package wordnet to /root/nltk_data...\n",
            "[nltk_data]    |   Package wordnet is already up-to-date!\n",
            "[nltk_data]    | Downloading package wordnet_ic to /root/nltk_data...\n",
            "[nltk_data]    |   Package wordnet_ic is already up-to-date!\n",
            "[nltk_data]    | Downloading package words to /root/nltk_data...\n",
            "[nltk_data]    |   Package words is already up-to-date!\n",
            "[nltk_data]    | Downloading package maxent_ne_chunker to\n",
            "[nltk_data]    |     /root/nltk_data...\n",
            "[nltk_data]    |   Package maxent_ne_chunker is already up-to-date!\n",
            "[nltk_data]    | Downloading package punkt to /root/nltk_data...\n",
            "[nltk_data]    |   Package punkt is already up-to-date!\n",
            "[nltk_data]    | Downloading package snowball_data to\n",
            "[nltk_data]    |     /root/nltk_data...\n",
            "[nltk_data]    |   Package snowball_data is already up-to-date!\n",
            "[nltk_data]    | Downloading package averaged_perceptron_tagger to\n",
            "[nltk_data]    |     /root/nltk_data...\n",
            "[nltk_data]    |   Package averaged_perceptron_tagger is already up-\n",
            "[nltk_data]    |       to-date!\n",
            "[nltk_data]    | \n",
            "[nltk_data]  Done downloading collection popular\n",
            "[nltk_data] Downloading package vader_lexicon to /root/nltk_data...\n",
            "[nltk_data]   Package vader_lexicon is already up-to-date!\n",
            "[nltk_data] Error loading twython: Package 'twython' not found in\n",
            "[nltk_data]     index\n"
          ],
          "name": "stdout"
        }
      ]
    },
    {
      "cell_type": "code",
      "metadata": {
        "id": "_-ZtJ2_PTpme"
      },
      "source": [
        "english_stops = set(stopwords.words('english'))\n",
        "spell = SpellChecker()"
      ],
      "execution_count": null,
      "outputs": []
    },
    {
      "cell_type": "code",
      "metadata": {
        "id": "9FFUw2ucLm1b"
      },
      "source": [
        "raw_dataset_tweets = pd.read_csv('https://raw.githubusercontent.com/manuvillalba-uclm/Natural_Lenguaje_Processing-ELM/main/labeled_data.csv?token=ANLXPWL27WHT4VS5U4LHMVK72D27M', index_col=[0])"
      ],
      "execution_count": null,
      "outputs": []
    },
    {
      "cell_type": "markdown",
      "metadata": {
        "id": "pVeA5dHlc_zi"
      },
      "source": [
        "# Preprocesing:\n",
        "\n",
        "Mandatory preprocessing steps\n",
        " - Remove unseful data: ! \"_ $% & / ( ) = _ ˆ* ¡@\n",
        " - Remove all capital letters\n",
        " - Correct wrong words: https://norvig.com/spell-correct.html\n",
        " - Lemmatize all terms\n",
        "\n",
        "Optional preprocessing steps:\n",
        " - Remove contractions: don’t -> do not\n",
        " - Remove repeated words: great great show\n",
        " - Replace emoticons, for example,🙂 with “smile”, 😉with “ok”\n"
      ]
    },
    {
      "cell_type": "markdown",
      "metadata": {
        "id": "9yyv-WL_fRlC"
      },
      "source": [
        "We just need index and tweet content for this first part, so we drop Crowdflowers users information from the dataset."
      ]
    },
    {
      "cell_type": "code",
      "metadata": {
        "id": "82Wk7D3Ifafg"
      },
      "source": [
        "dataset_tweets_preprocesing = raw_dataset_tweets.copy()\n",
        "dataset_tweets_preprocesing.drop(\"count\", axis = 1, inplace = True)\n",
        "dataset_tweets_preprocesing.drop(\"hate_speech\", axis = 1, inplace = True)\n",
        "dataset_tweets_preprocesing.drop(\"offensive_language\", axis = 1, inplace = True)\n",
        "dataset_tweets_preprocesing.drop(\"neither\", axis = 1, inplace = True)\n",
        "dataset_tweets_preprocesing.drop(\"class\", axis = 1, inplace = True)"
      ],
      "execution_count": null,
      "outputs": []
    },
    {
      "cell_type": "code",
      "metadata": {
        "colab": {
          "base_uri": "https://localhost:8080/",
          "height": 402
        },
        "id": "EftodzLJgupS",
        "outputId": "2adeddf5-ea71-4074-cc59-011cc8abc83a"
      },
      "source": [
        "dataset_tweets_preprocesing"
      ],
      "execution_count": null,
      "outputs": [
        {
          "output_type": "execute_result",
          "data": {
            "text/html": [
              "<div>\n",
              "<style scoped>\n",
              "    .dataframe tbody tr th:only-of-type {\n",
              "        vertical-align: middle;\n",
              "    }\n",
              "\n",
              "    .dataframe tbody tr th {\n",
              "        vertical-align: top;\n",
              "    }\n",
              "\n",
              "    .dataframe thead th {\n",
              "        text-align: right;\n",
              "    }\n",
              "</style>\n",
              "<table border=\"1\" class=\"dataframe\">\n",
              "  <thead>\n",
              "    <tr style=\"text-align: right;\">\n",
              "      <th></th>\n",
              "      <th>tweet</th>\n",
              "    </tr>\n",
              "  </thead>\n",
              "  <tbody>\n",
              "    <tr>\n",
              "      <th>0</th>\n",
              "      <td>!!! RT @mayasolovely: As a woman you shouldn't...</td>\n",
              "    </tr>\n",
              "    <tr>\n",
              "      <th>1</th>\n",
              "      <td>!!!!! RT @mleew17: boy dats cold...tyga dwn ba...</td>\n",
              "    </tr>\n",
              "    <tr>\n",
              "      <th>2</th>\n",
              "      <td>!!!!!!! RT @UrKindOfBrand Dawg!!!! RT @80sbaby...</td>\n",
              "    </tr>\n",
              "    <tr>\n",
              "      <th>3</th>\n",
              "      <td>!!!!!!!!! RT @C_G_Anderson: @viva_based she lo...</td>\n",
              "    </tr>\n",
              "    <tr>\n",
              "      <th>4</th>\n",
              "      <td>!!!!!!!!!!!!! RT @ShenikaRoberts: The shit you...</td>\n",
              "    </tr>\n",
              "    <tr>\n",
              "      <th>...</th>\n",
              "      <td>...</td>\n",
              "    </tr>\n",
              "    <tr>\n",
              "      <th>25291</th>\n",
              "      <td>you's a muthaf***in lie &amp;#8220;@LifeAsKing: @2...</td>\n",
              "    </tr>\n",
              "    <tr>\n",
              "      <th>25292</th>\n",
              "      <td>you've gone and broke the wrong heart baby, an...</td>\n",
              "    </tr>\n",
              "    <tr>\n",
              "      <th>25294</th>\n",
              "      <td>young buck wanna eat!!.. dat nigguh like I ain...</td>\n",
              "    </tr>\n",
              "    <tr>\n",
              "      <th>25295</th>\n",
              "      <td>youu got wild bitches tellin you lies</td>\n",
              "    </tr>\n",
              "    <tr>\n",
              "      <th>25296</th>\n",
              "      <td>~~Ruffled | Ntac Eileen Dahlia - Beautiful col...</td>\n",
              "    </tr>\n",
              "  </tbody>\n",
              "</table>\n",
              "<p>24783 rows × 1 columns</p>\n",
              "</div>"
            ],
            "text/plain": [
              "                                                   tweet\n",
              "0      !!! RT @mayasolovely: As a woman you shouldn't...\n",
              "1      !!!!! RT @mleew17: boy dats cold...tyga dwn ba...\n",
              "2      !!!!!!! RT @UrKindOfBrand Dawg!!!! RT @80sbaby...\n",
              "3      !!!!!!!!! RT @C_G_Anderson: @viva_based she lo...\n",
              "4      !!!!!!!!!!!!! RT @ShenikaRoberts: The shit you...\n",
              "...                                                  ...\n",
              "25291  you's a muthaf***in lie &#8220;@LifeAsKing: @2...\n",
              "25292  you've gone and broke the wrong heart baby, an...\n",
              "25294  young buck wanna eat!!.. dat nigguh like I ain...\n",
              "25295              youu got wild bitches tellin you lies\n",
              "25296  ~~Ruffled | Ntac Eileen Dahlia - Beautiful col...\n",
              "\n",
              "[24783 rows x 1 columns]"
            ]
          },
          "metadata": {
            "tags": []
          },
          "execution_count": 5
        }
      ]
    },
    {
      "cell_type": "markdown",
      "metadata": {
        "id": "ESxIG_goicoH"
      },
      "source": [
        "Seleccionamos sólo unos pocos para trabajar al principio más fácilmente"
      ]
    },
    {
      "cell_type": "code",
      "metadata": {
        "id": "EH38KuB2hrer",
        "colab": {
          "base_uri": "https://localhost:8080/"
        },
        "outputId": "d3cafecf-a6ae-4327-defb-a9cac9883244"
      },
      "source": [
        "example_preprocesing = dataset_tweets_preprocesing.iloc[10,0]\n",
        "print(example_preprocesing)"
      ],
      "execution_count": null,
      "outputs": [
        {
          "output_type": "stream",
          "text": [
            "\" Keeks is a bitch she curves everyone \" lol I walked into a conversation like this. Smh\n"
          ],
          "name": "stdout"
        }
      ]
    },
    {
      "cell_type": "code",
      "metadata": {
        "colab": {
          "base_uri": "https://localhost:8080/"
        },
        "id": "4cB2AoPzOUHf",
        "outputId": "005a1ae7-db0e-4b95-d1bf-46d581c7d5ef"
      },
      "source": [
        "sentences = sent_tokenize(example_preprocesing)\n",
        "tokens = word_tokenize(example_preprocesing)\n",
        "clean_tokens = []\n",
        "for token in tokens:\n",
        "  #No english stop words\n",
        "  if token not in english_stops:\n",
        "    #We remove those words enterely made of these special symbols.\n",
        "    if not re.match(\"[`!\\\"_$%&/()=_ˆ*¡@]+\",token):\n",
        "      #If the word contains these special symbols, we eliminate them but we maintain the rest.\n",
        "      token = re.sub(\"[`!\\\"_$%&/()=_ˆ*¡@]\", \"\", token)\n",
        "      #Spelling corrections\n",
        "      token = spell.correction(token)\n",
        "      #Remove all capital letters\n",
        "      token = token.lower()\n",
        "      clean_tokens.append(token)\n",
        "      \n",
        "clean_tokens\n"
      ],
      "execution_count": null,
      "outputs": [
        {
          "output_type": "execute_result",
          "data": {
            "text/plain": [
              "['weeks',\n",
              " 'bitch',\n",
              " 'curves',\n",
              " 'everyone',\n",
              " 'lol',\n",
              " 'i',\n",
              " 'walked',\n",
              " 'conversation',\n",
              " 'like',\n",
              " '.',\n",
              " 'sh']"
            ]
          },
          "metadata": {
            "tags": []
          },
          "execution_count": 12
        }
      ]
    }
  ]
}