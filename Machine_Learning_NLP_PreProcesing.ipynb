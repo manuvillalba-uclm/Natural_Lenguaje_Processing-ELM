{
  "nbformat": 4,
  "nbformat_minor": 0,
  "metadata": {
    "colab": {
      "name": "Machine Learning NLP / PreProcesing.ipynb",
      "provenance": [],
      "collapsed_sections": [],
      "include_colab_link": true
    },
    "kernelspec": {
      "name": "python3",
      "display_name": "Python 3"
    }
  },
  "cells": [
    {
      "cell_type": "markdown",
      "metadata": {
        "id": "view-in-github",
        "colab_type": "text"
      },
      "source": [
        "<a href=\"https://colab.research.google.com/github/manuvillalba-uclm/Natural_Lenguaje_Processing-ELM/blob/main/Machine_Learning_NLP_PreProcesing.ipynb\" target=\"_parent\"><img src=\"https://colab.research.google.com/assets/colab-badge.svg\" alt=\"Open In Colab\"/></a>"
      ]
    },
    {
      "cell_type": "markdown",
      "metadata": {
        "id": "h1DfHz0Wv4be"
      },
      "source": [
        "# TO DO\n",
        "\n",
        "\n",
        "Los emojis los traduce bien pero no como queremos, nos da igual que nos diga face_with_tears_of_joy, el objetivo es que tears y joy se integren con el texto, eso hay que revisarlo.\n",
        "\n",
        "No sé hasta que punto nos interesa mantener los hastag\n",
        "\n",
        "\n"
      ]
    },
    {
      "cell_type": "code",
      "metadata": {
        "id": "N3pAGd1xLHmV"
      },
      "source": [
        "# dataframes library\n",
        "!pip install pyspellchecker \n",
        "!pip install contractions\n",
        "!pip install nltk --upgrade\n",
        "!pip install emoji\n",
        "\n",
        "import pandas as pd\n",
        "import re\n",
        "import nltk\n",
        "nltk.download(\"popular\")\n",
        "nltk.download('vader_lexicon') #sentiment analysis\n",
        "nltk.download('twython') #twitter not necessary\n",
        "\n",
        "from nltk.tokenize.casual import TweetTokenizer\n",
        "from nltk.tokenize import word_tokenize\n",
        "from nltk.tokenize import sent_tokenize\n",
        "from nltk.corpus import stopwords\n",
        "from nltk.stem import PorterStemmer\n",
        "from nltk.stem import WordNetLemmatizer\n",
        "\n",
        "#Correcciones y emoji\n",
        "import emoji\n",
        "from textblob import TextBlob\n",
        "from spellchecker import SpellChecker\n",
        "import contractions\n",
        "from multiprocessing import Pool\n",
        "\n",
        "#Vectorization\n",
        "from sklearn.feature_extraction.text import TfidfVectorizer\n",
        "\n",
        "#Feature selection \n",
        "from sklearn.feature_selection import SelectKBest, chi2\n",
        "\n",
        "#Classification\n",
        "from sklearn.model_selection import train_test_split\n",
        "\n",
        "from sklearn import neighbors\n",
        "from sklearn.model_selection import KFold\n",
        "import matplotlib.pyplot as plt\n",
        "from sklearn.metrics import accuracy_score\n",
        "import numpy as np\n",
        "\n",
        "from sklearn.metrics import confusion_matrix\n",
        "from sklearn.utils.multiclass import unique_labels\n",
        "\n"
      ],
      "execution_count": null,
      "outputs": []
    },
    {
      "cell_type": "code",
      "metadata": {
        "id": "_-ZtJ2_PTpme"
      },
      "source": [
        "english_stops = set(stopwords.words('english'))\n",
        "spell = SpellChecker()\n",
        "lemmatizer = WordNetLemmatizer()\n",
        "stemmer = PorterStemmer()\n"
      ],
      "execution_count": null,
      "outputs": []
    },
    {
      "cell_type": "code",
      "metadata": {
        "id": "9FFUw2ucLm1b"
      },
      "source": [
        "raw_dataset_tweets = pd.read_csv('https://raw.githubusercontent.com/manuvillalba-uclm/Natural_Lenguaje_Processing-ELM/main/labeled_data.csv?token=ANLXPWL27WHT4VS5U4LHMVK72D27M', index_col=[0])"
      ],
      "execution_count": null,
      "outputs": []
    },
    {
      "cell_type": "markdown",
      "metadata": {
        "id": "pVeA5dHlc_zi"
      },
      "source": [
        "# Preprocesing:\n",
        "\n",
        "Mandatory preprocessing steps\n",
        " - Remove unseful data: ! \"_ $% & / ( ) = _ ˆ* ¡@\n",
        " - Remove all capital letters\n",
        " - Correct wrong words: https://norvig.com/spell-correct.html\n",
        " - Lemmatize all terms\n",
        "\n",
        "Optional preprocessing steps:\n",
        " - Remove contractions: don’t -> do not\n",
        " - Remove repeated words: great great show\n",
        " - Replace emoticons, for example,🙂 with “smile”, 😉with “ok”\n"
      ]
    },
    {
      "cell_type": "markdown",
      "metadata": {
        "id": "9yyv-WL_fRlC"
      },
      "source": [
        "We just need index and tweet content for this first part, so we drop Crowdflowers users information from the dataset."
      ]
    },
    {
      "cell_type": "code",
      "metadata": {
        "id": "82Wk7D3Ifafg"
      },
      "source": [
        "dataset_tweets_preprocesing = raw_dataset_tweets.copy()\n",
        "dataset_tweets_preprocesing.drop(\"count\", axis = 1, inplace = True)\n",
        "dataset_tweets_preprocesing.drop(\"hate_speech\", axis = 1, inplace = True)\n",
        "dataset_tweets_preprocesing.drop(\"offensive_language\", axis = 1, inplace = True)\n",
        "dataset_tweets_preprocesing.drop(\"neither\", axis = 1, inplace = True)\n",
        "dataset_tweets_preprocesing.drop(\"class\", axis = 1, inplace = True)"
      ],
      "execution_count": null,
      "outputs": []
    },
    {
      "cell_type": "code",
      "metadata": {
        "id": "EftodzLJgupS"
      },
      "source": [
        "dataset_tweets_preprocesing"
      ],
      "execution_count": null,
      "outputs": []
    },
    {
      "cell_type": "markdown",
      "metadata": {
        "id": "ESxIG_goicoH"
      },
      "source": [
        "Seleccionamos sólo unos pocos para trabajar al principio más fácilmente"
      ]
    },
    {
      "cell_type": "code",
      "metadata": {
        "id": "EH38KuB2hrer"
      },
      "source": [
        "#@title Texto de título predeterminado\n",
        "num_tweets = 24783 #@param {type:\"slider\", min:20, max:24783, step:10}\n",
        "\n",
        "examples_preprocesing = dataset_tweets_preprocesing.iloc[0:num_tweets,0]\n",
        "examples_preprocesing.reset_index(inplace = True, drop= True)\n",
        "print(examples_preprocesing)\n",
        "\n",
        "lista_tweets = []\n",
        "\n"
      ],
      "execution_count": null,
      "outputs": []
    },
    {
      "cell_type": "markdown",
      "metadata": {
        "id": "vYoIEBN9I3y3"
      },
      "source": [
        "### Definimos las funciones que procesarán los tweets\n"
      ]
    },
    {
      "cell_type": "code",
      "metadata": {
        "id": "JNH6Bnc87p7u"
      },
      "source": [
        "def stopwords(text):\n",
        "    return \" \".join([word for word in str(text).split() if word not in english_stops])\n",
        "\n",
        "def remove_urls(text):\n",
        "    url_pattern = re.compile(r'https?://\\S+|www\\.\\S+')\n",
        "    return url_pattern.sub(r'', text)\n",
        "\n",
        "def demojizar(arr):\n",
        "    text_arr = []\n",
        "    for token in arr:\n",
        "      text_arr.append(emoji.demojize(token, delimiters=(\"\", \"\")))\n",
        "    return text_arr\n",
        "\n",
        "def textConditions(token):\n",
        "  if re.match(\"[`!\\\"_$%&/()=_ˆ*¡,@:.]+\",token): #Signos de puntuacion\n",
        "    return False\n",
        "  if re.match(\"[-><~]+\",token): #Signos de puntuacion\n",
        "    return False\n",
        "  if re.match(\"[^\\u0000-\\u007F]+\",token): #Unicodes\n",
        "    return False\n",
        "  return True\n",
        "\n",
        "def processArray(arr):\n",
        "  text_arr = []\n",
        "  for token in arr:\n",
        "    if textConditions(token):\n",
        "      token = stemmer.stem(token)\n",
        "      token = lemmatizer.lemmatize(token) # < ---- LEMMA\n",
        "      text_arr.append(token)\n",
        "  # try: #Aqui iria el tagger de palabras, pero solo me lo hace para letras (ERROR)\n",
        "  #   arr_tags = nltk.pos_tag(text_arr)\n",
        "  # except:\n",
        "  #   arr_tags = text_arr\n",
        "  return text_arr"
      ],
      "execution_count": null,
      "outputs": []
    },
    {
      "cell_type": "code",
      "metadata": {
        "id": "IYkHFwcA7UuA"
      },
      "source": [
        "%%time\n",
        "\n",
        "ds_alt_twitter = examples_preprocesing.copy()\n",
        "ds_alt_twitter = ds_alt_twitter.str.lower() #A minusc\n",
        "ds_alt_twitter = ds_alt_twitter.apply(contractions.fix) #Arreglar contracciones\n",
        "ds_alt_twitter = ds_alt_twitter.apply(contractions.fix) #Plural a singular\n",
        "\n",
        "ds_alt_twitter = ds_alt_twitter.str.replace('(?<=^|(?<=[^a-zA-Z0-9-_\\.]))@([A-Za-z0-9_]+[A-Za-z0-9-_]+)','') #Remover usuario\n",
        "ds_alt_twitter = ds_alt_twitter.str.replace('(?<=^|(?<=[^a-zA-Z0-9-_\\.]))@([A-Za-z0-9_]+[A-Za-z0-9-_]+)','') #Remover usuario\n",
        "ds_alt_twitter = ds_alt_twitter.str.replace('rt','') #Remover rt\n",
        "\n",
        "ds_alt_twitter = ds_alt_twitter.apply(stopwords) #Quitar Stopwords\n",
        "ds_alt_twitter = ds_alt_twitter.apply(remove_urls) #Quitar url\n",
        "\n",
        "ds_alt_twitter = ds_alt_twitter.apply(lambda x: str(TextBlob(x).correct()))\n",
        "ds_alt_twitter = ds_alt_twitter.apply(TweetTokenizer().tokenize) #Tokenizar\n",
        "ds_alt_twitter = ds_alt_twitter.apply(demojizar) #Traducir emoji a texto\n",
        "ds_alt_twitter = ds_alt_twitter.apply(processArray) #Traducir emoji a texto\n",
        "\n"
      ],
      "execution_count": null,
      "outputs": []
    },
    {
      "cell_type": "code",
      "metadata": {
        "id": "5C-9C_2IA6Rf"
      },
      "source": [
        "from google.colab import drive\n",
        "drive.mount('/content/gdrive')\n",
        "\n",
        "ds_alt_twitter.to_csv(r'/content/gdrive/My Drive/preprocesado.csv')"
      ],
      "execution_count": null,
      "outputs": []
    }
  ]
}