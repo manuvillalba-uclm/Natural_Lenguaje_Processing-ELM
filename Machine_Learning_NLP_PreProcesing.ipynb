{
  "nbformat": 4,
  "nbformat_minor": 0,
  "metadata": {
    "colab": {
      "name": "Machine Learning NLP / PreProcesing.ipynb",
      "provenance": [],
      "collapsed_sections": [],
      "include_colab_link": true
    },
    "kernelspec": {
      "name": "python3",
      "display_name": "Python 3"
    }
  },
  "cells": [
    {
      "cell_type": "markdown",
      "metadata": {
        "id": "view-in-github",
        "colab_type": "text"
      },
      "source": [
        "<a href=\"https://colab.research.google.com/github/manuvillalba-uclm/Natural_Lenguaje_Processing-ELM/blob/Preprocessing-optional/Machine_Learning_NLP_PreProcesing.ipynb\" target=\"_parent\"><img src=\"https://colab.research.google.com/assets/colab-badge.svg\" alt=\"Open In Colab\"/></a>"
      ]
    },
    {
      "cell_type": "markdown",
      "metadata": {
        "id": "h1DfHz0Wv4be"
      },
      "source": [
        "# TO DO\n",
        "\n",
        "\n",
        "Los emojis los traduce bien pero no como queremos, nos da igual que nos diga face_with_tears_of_joy, el objetivo es que tears y joy se integren con el texto, eso hay que revisarlo.\n",
        "\n",
        "No sé hasta que punto nos interesa mantener los hastag\n",
        "\n",
        "\n"
      ]
    },
    {
      "cell_type": "code",
      "metadata": {
        "id": "N3pAGd1xLHmV"
      },
      "source": [
        "# dataframes library\n",
        "!pip install pyspellchecker \n",
        "!pip install contractions\n",
        "!pip install nltk --upgrade\n",
        "!pip install emoji\n",
        "\n",
        "import pandas as pd\n",
        "import re\n",
        "import nltk\n",
        "nltk.download(\"popular\")\n",
        "nltk.download('vader_lexicon') #sentiment analysis\n",
        "nltk.download('twython') #twitter not necessary\n",
        "\n",
        "from nltk.tokenize.casual import TweetTokenizer\n",
        "from nltk.tokenize import word_tokenize\n",
        "from nltk.tokenize import sent_tokenize\n",
        "from nltk.corpus import stopwords\n",
        "from nltk.stem import PorterStemmer\n",
        "from nltk.stem import WordNetLemmatizer\n",
        "\n",
        "#Correcciones y emoji\n",
        "import emoji\n",
        "from textblob import TextBlob\n",
        "from spellchecker import SpellChecker\n",
        "import contractions\n",
        "from multiprocessing import Pool\n",
        "\n",
        "#Vectorization\n",
        "from sklearn.feature_extraction.text import TfidfVectorizer\n",
        "\n",
        "#Feature selection \n",
        "from sklearn.feature_selection import SelectKBest, chi2\n",
        "\n",
        "#Classification\n",
        "from sklearn.model_selection import train_test_split\n",
        "\n",
        "from sklearn import neighbors\n",
        "from sklearn.model_selection import KFold\n",
        "import matplotlib.pyplot as plt\n",
        "from sklearn.metrics import accuracy_score\n",
        "import numpy as np\n",
        "\n",
        "from sklearn.metrics import confusion_matrix\n",
        "from sklearn.utils.multiclass import unique_labels\n",
        "\n"
      ],
      "execution_count": null,
      "outputs": []
    },
    {
      "cell_type": "code",
      "metadata": {
        "id": "_-ZtJ2_PTpme"
      },
      "source": [
        "english_stops = set(stopwords.words('english'))\n",
        "spell = SpellChecker()\n",
        "lemmatizer = WordNetLemmatizer()\n",
        "stemmer = PorterStemmer()\n"
      ],
      "execution_count": 2,
      "outputs": []
    },
    {
      "cell_type": "code",
      "metadata": {
        "id": "9FFUw2ucLm1b"
      },
      "source": [
        "raw_dataset_tweets = pd.read_csv('https://raw.githubusercontent.com/manuvillalba-uclm/Natural_Lenguaje_Processing-ELM/Preprocessing-optional/labeled_data.csv?token=AGI3DY5GNUGRFLUE4RKP4L273PNZE', index_col=[0])"
      ],
      "execution_count": 3,
      "outputs": []
    },
    {
      "cell_type": "markdown",
      "metadata": {
        "id": "pVeA5dHlc_zi"
      },
      "source": [
        "# Preprocesing:\n",
        "\n",
        "Mandatory preprocessing steps\n",
        " - Remove unseful data: ! \"_ $% & / ( ) = _ ˆ* ¡@\n",
        " - Remove all capital letters\n",
        " - Correct wrong words: https://norvig.com/spell-correct.html\n",
        " - Lemmatize all terms\n",
        "\n",
        "Optional preprocessing steps:\n",
        " - Remove contractions: don’t -> do not\n",
        " - Remove repeated words: great great show\n",
        " - Replace emoticons, for example,🙂 with “smile”, 😉with “ok”\n"
      ]
    },
    {
      "cell_type": "markdown",
      "metadata": {
        "id": "9yyv-WL_fRlC"
      },
      "source": [
        "We just need index and tweet content for this first part, so we drop Crowdflowers users information from the dataset."
      ]
    },
    {
      "cell_type": "code",
      "metadata": {
        "id": "82Wk7D3Ifafg"
      },
      "source": [
        "dataset_tweets_preprocesing = raw_dataset_tweets.copy()\n",
        "dataset_tweets_preprocesing.drop(\"count\", axis = 1, inplace = True)\n",
        "dataset_tweets_preprocesing.drop(\"hate_speech\", axis = 1, inplace = True)\n",
        "dataset_tweets_preprocesing.drop(\"offensive_language\", axis = 1, inplace = True)\n",
        "dataset_tweets_preprocesing.drop(\"neither\", axis = 1, inplace = True)\n",
        "dataset_tweets_preprocesing.drop(\"class\", axis = 1, inplace = True)"
      ],
      "execution_count": 4,
      "outputs": []
    },
    {
      "cell_type": "code",
      "metadata": {
        "id": "EftodzLJgupS",
        "colab": {
          "base_uri": "https://localhost:8080/",
          "height": 424
        },
        "outputId": "a1760dd9-efd0-4580-c2ff-c73f7b345eb6"
      },
      "source": [
        "dataset_tweets_preprocesing"
      ],
      "execution_count": 5,
      "outputs": [
        {
          "output_type": "execute_result",
          "data": {
            "text/html": [
              "<div>\n",
              "<style scoped>\n",
              "    .dataframe tbody tr th:only-of-type {\n",
              "        vertical-align: middle;\n",
              "    }\n",
              "\n",
              "    .dataframe tbody tr th {\n",
              "        vertical-align: top;\n",
              "    }\n",
              "\n",
              "    .dataframe thead th {\n",
              "        text-align: right;\n",
              "    }\n",
              "</style>\n",
              "<table border=\"1\" class=\"dataframe\">\n",
              "  <thead>\n",
              "    <tr style=\"text-align: right;\">\n",
              "      <th></th>\n",
              "      <th>tweet</th>\n",
              "    </tr>\n",
              "  </thead>\n",
              "  <tbody>\n",
              "    <tr>\n",
              "      <th>0</th>\n",
              "      <td>!!! RT @mayasolovely: As a woman you shouldn't...</td>\n",
              "    </tr>\n",
              "    <tr>\n",
              "      <th>1</th>\n",
              "      <td>!!!!! RT @mleew17: boy dats cold...tyga dwn ba...</td>\n",
              "    </tr>\n",
              "    <tr>\n",
              "      <th>2</th>\n",
              "      <td>!!!!!!! RT @UrKindOfBrand Dawg!!!! RT @80sbaby...</td>\n",
              "    </tr>\n",
              "    <tr>\n",
              "      <th>3</th>\n",
              "      <td>!!!!!!!!! RT @C_G_Anderson: @viva_based she lo...</td>\n",
              "    </tr>\n",
              "    <tr>\n",
              "      <th>4</th>\n",
              "      <td>!!!!!!!!!!!!! RT @ShenikaRoberts: The shit you...</td>\n",
              "    </tr>\n",
              "    <tr>\n",
              "      <th>...</th>\n",
              "      <td>...</td>\n",
              "    </tr>\n",
              "    <tr>\n",
              "      <th>25291</th>\n",
              "      <td>you's a muthaf***in lie &amp;#8220;@LifeAsKing: @2...</td>\n",
              "    </tr>\n",
              "    <tr>\n",
              "      <th>25292</th>\n",
              "      <td>you've gone and broke the wrong heart baby, an...</td>\n",
              "    </tr>\n",
              "    <tr>\n",
              "      <th>25294</th>\n",
              "      <td>young buck wanna eat!!.. dat nigguh like I ain...</td>\n",
              "    </tr>\n",
              "    <tr>\n",
              "      <th>25295</th>\n",
              "      <td>youu got wild bitches tellin you lies</td>\n",
              "    </tr>\n",
              "    <tr>\n",
              "      <th>25296</th>\n",
              "      <td>~~Ruffled | Ntac Eileen Dahlia - Beautiful col...</td>\n",
              "    </tr>\n",
              "  </tbody>\n",
              "</table>\n",
              "<p>24783 rows × 1 columns</p>\n",
              "</div>"
            ],
            "text/plain": [
              "                                                   tweet\n",
              "0      !!! RT @mayasolovely: As a woman you shouldn't...\n",
              "1      !!!!! RT @mleew17: boy dats cold...tyga dwn ba...\n",
              "2      !!!!!!! RT @UrKindOfBrand Dawg!!!! RT @80sbaby...\n",
              "3      !!!!!!!!! RT @C_G_Anderson: @viva_based she lo...\n",
              "4      !!!!!!!!!!!!! RT @ShenikaRoberts: The shit you...\n",
              "...                                                  ...\n",
              "25291  you's a muthaf***in lie &#8220;@LifeAsKing: @2...\n",
              "25292  you've gone and broke the wrong heart baby, an...\n",
              "25294  young buck wanna eat!!.. dat nigguh like I ain...\n",
              "25295              youu got wild bitches tellin you lies\n",
              "25296  ~~Ruffled | Ntac Eileen Dahlia - Beautiful col...\n",
              "\n",
              "[24783 rows x 1 columns]"
            ]
          },
          "metadata": {
            "tags": []
          },
          "execution_count": 5
        }
      ]
    },
    {
      "cell_type": "markdown",
      "metadata": {
        "id": "ESxIG_goicoH"
      },
      "source": [
        "Seleccionamos sólo unos pocos para trabajar al principio más fácilmente"
      ]
    },
    {
      "cell_type": "code",
      "metadata": {
        "id": "EH38KuB2hrer"
      },
      "source": [
        "#@title Texto de título predeterminado\n",
        "num_tweets = 1000 #@param {type:\"slider\", min:20, max:24783, step:10}\n",
        "\n",
        "examples_preprocesing = dataset_tweets_preprocesing.iloc[0:num_tweets,0]\n",
        "examples_preprocesing.reset_index(inplace = True, drop= True)\n",
        "print(examples_preprocesing)\n",
        "\n",
        "lista_tweets = []\n",
        "\n"
      ],
      "execution_count": null,
      "outputs": []
    },
    {
      "cell_type": "markdown",
      "metadata": {
        "id": "vYoIEBN9I3y3"
      },
      "source": [
        "### Definimos las funciones que procesarán los tweets\n"
      ]
    },
    {
      "cell_type": "code",
      "metadata": {
        "id": "JNH6Bnc87p7u"
      },
      "source": [
        "def stopwords(text):\n",
        "    return \" \".join([word for word in str(text).split() if word not in english_stops])\n",
        "\n",
        "def remove_urls(text):\n",
        "    url_pattern = re.compile(r'https?://\\S+|www\\.\\S+')\n",
        "    return url_pattern.sub(r'', text)\n",
        "\n",
        "def demojizar(arr):\n",
        "    text_arr = []\n",
        "    trozos_emoji = []\n",
        "    for token in arr:\n",
        "      wordemoji = emoji.demojize(token, delimiters=(\"\", \"\"))\n",
        "      trozos_emoji = wordemoji.split('_')\n",
        "      for word in trozos_emoji:\n",
        "        text_arr.append(word)\n",
        "    return text_arr\n",
        "\n",
        "def textConditions(token):\n",
        "  if re.match(\"[`!\\\"_$%&/()=_ˆ*¡,@:.]+\",token): #Signos de puntuacion\n",
        "    return False\n",
        "  if re.match(\"[-><~]+\",token): #Signos de puntuacion\n",
        "    return False\n",
        "  if re.match(\"[^\\u0000-\\u007F]+\",token): #Unicodes\n",
        "    return False\n",
        "  return True\n",
        "\n",
        "def processArray(arr):\n",
        "  text_arr = []\n",
        "  arr = list(set(arr))\n",
        "  for token in arr:\n",
        "    if textConditions(token):\n",
        "      token = stemmer.stem(token)\n",
        "      token = lemmatizer.lemmatize(token) # < ---- LEMMA\n",
        "      text_arr.append(token)\n",
        "  # try: #Aqui iria el tagger de palabras, pero solo me lo hace para letras (ERROR)\n",
        "  #   arr_tags = nltk.pos_tag(text_arr)\n",
        "  # except:\n",
        "  #   arr_tags = text_arr\n",
        "  return text_arr"
      ],
      "execution_count": 7,
      "outputs": []
    },
    {
      "cell_type": "code",
      "metadata": {
        "id": "IYkHFwcA7UuA"
      },
      "source": [
        "%%time\n",
        "\n",
        "ds_alt_twitter = examples_preprocesing.copy()\n",
        "ds_alt_twitter = ds_alt_twitter.str.lower() #A minusc\n",
        "ds_alt_twitter = ds_alt_twitter.apply(contractions.fix) #Arreglar contracciones\n",
        "ds_alt_twitter = ds_alt_twitter.apply(contractions.fix) #Plural a singular\n",
        "\n",
        "ds_alt_twitter = ds_alt_twitter.str.replace('(?<=^|(?<=[^a-zA-Z0-9-_\\.]))@([A-Za-z0-9_]+[A-Za-z0-9-_]+)','') #Remover usuario\n",
        "ds_alt_twitter = ds_alt_twitter.str.replace('(?<=^|(?<=[^a-zA-Z0-9-_\\.]))@([A-Za-z0-9_]+[A-Za-z0-9-_]+)','') #Remover usuario\n",
        "ds_alt_twitter = ds_alt_twitter.str.replace('rt','') #Remover rt\n",
        "\n",
        "ds_alt_twitter = ds_alt_twitter.apply(stopwords) #Quitar Stopwords\n",
        "ds_alt_twitter = ds_alt_twitter.apply(remove_urls) #Quitar url\n",
        "\n",
        "ds_alt_twitter = ds_alt_twitter.apply(lambda x: str(TextBlob(x).correct()))\n",
        "ds_alt_twitter = ds_alt_twitter.apply(TweetTokenizer().tokenize) #Tokenizar\n",
        "ds_alt_twitter = ds_alt_twitter.apply(demojizar) #Traducir emoji a texto\n",
        "ds_alt_twitter = ds_alt_twitter.apply(processArray) #Eliminar repetidas, Lemma y stem\n"
      ],
      "execution_count": null,
      "outputs": []
    },
    {
      "cell_type": "code",
      "metadata": {
        "id": "5C-9C_2IA6Rf",
        "colab": {
          "base_uri": "https://localhost:8080/"
        },
        "outputId": "a5be3ef6-7155-4c4e-f5b0-9a5d6124c343"
      },
      "source": [
        "from google.colab import drive\n",
        "drive.mount('/content/gdrive', force_remount=True)\n",
        "\n",
        "ds_alt_twitter.to_csv(r'/content/gdrive/My Drive/preprocesado.csv')"
      ],
      "execution_count": 9,
      "outputs": [
        {
          "output_type": "stream",
          "text": [
            "Mounted at /content/gdrive\n"
          ],
          "name": "stdout"
        }
      ]
    }
  ]
}